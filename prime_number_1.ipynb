{
  "nbformat": 4,
  "nbformat_minor": 0,
  "metadata": {
    "colab": {
      "name": "prime_number_1.ipynb",
      "provenance": [],
      "authorship_tag": "ABX9TyMbRpCgpXyIo1xYLtvglPoF",
      "include_colab_link": true
    },
    "kernelspec": {
      "name": "python3",
      "display_name": "Python 3"
    },
    "language_info": {
      "name": "python"
    }
  },
  "cells": [
    {
      "cell_type": "markdown",
      "metadata": {
        "id": "view-in-github",
        "colab_type": "text"
      },
      "source": [
        "<a href=\"https://colab.research.google.com/github/Ayantika1998/Assignments/blob/main/prime_number_1.ipynb\" target=\"_parent\"><img src=\"https://colab.research.google.com/assets/colab-badge.svg\" alt=\"Open In Colab\"/></a>"
      ]
    },
    {
      "cell_type": "markdown",
      "source": [
        "Script 1: enter a number and print all prime numbers till that number"
      ],
      "metadata": {
        "id": "xFasfah3JgHg"
      }
    },
    {
      "cell_type": "code",
      "execution_count": 25,
      "metadata": {
        "colab": {
          "base_uri": "https://localhost:8080/"
        },
        "id": "I6IOpc8vEJPz",
        "outputId": "b2f1705c-e3c8-44e9-8d53-14e1753a717b"
      },
      "outputs": [
        {
          "output_type": "stream",
          "name": "stdout",
          "text": [
            "Enter the number till you want to check: 10\n",
            "[3, 5, 5, 5, 7, 7, 7, 7, 7, 9]\n"
          ]
        }
      ],
      "source": [
        "n =int(input(\"Enter the nupper bound: \"))\n",
        "prime = []\n",
        "for i in range (2, n+1):\n",
        "  for j in range(2, i):\n",
        "       if i%j == 0:\n",
        "            break\n",
        "       else:\n",
        "        prime.append(i)\n",
        "print(prime)\n",
        "    \n",
        "    "
      ]
    }
  ]
}