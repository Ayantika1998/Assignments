{
  "cells": [
    {
      "cell_type": "markdown",
      "metadata": {
        "id": "view-in-github",
        "colab_type": "text"
      },
      "source": [
        "<a href=\"https://colab.research.google.com/github/Ayantika1998/Assignments/blob/main/Face_Detection_Open_CV.ipynb\" target=\"_parent\"><img src=\"https://colab.research.google.com/assets/colab-badge.svg\" alt=\"Open In Colab\"/></a>"
      ]
    },
    {
      "cell_type": "markdown",
      "source": [
        "# **Importing Libraries**"
      ],
      "metadata": {
        "id": "b2tgaFAST-M1"
      }
    },
    {
      "cell_type": "code",
      "execution_count": null,
      "metadata": {
        "id": "CsePaF8RTaSp"
      },
      "outputs": [],
      "source": [
        "import numpy as np\n",
        "import cv2"
      ]
    },
    {
      "cell_type": "markdown",
      "source": [
        "# **Loading Image**"
      ],
      "metadata": {
        "id": "cILXlUFmUDt8"
      }
    },
    {
      "cell_type": "code",
      "execution_count": null,
      "metadata": {
        "id": "gf8myHQ8TaSu"
      },
      "outputs": [],
      "source": [
        "image_c=cv2.imread(\"C:\\\\Users\\\\2211444\\\\Downloads\\\\Trudeau.png\")"
      ]
    },
    {
      "cell_type": "code",
      "execution_count": null,
      "metadata": {
        "id": "KpUM9TVrTaSw"
      },
      "outputs": [],
      "source": [
        "image_g=cv2.cvtColor(image_c,cv2.COLOR_BGR2GRAY) #converting colour image to bw image"
      ]
    },
    {
      "cell_type": "code",
      "execution_count": null,
      "metadata": {
        "id": "i8Wnorx8TaSw"
      },
      "outputs": [],
      "source": [
        "cv2.imshow('Trudeau in Color',image_c) \n",
        "cv2.waitKey()\n",
        "cv2.destroyAllWindows()  #showing the colour image"
      ]
    },
    {
      "cell_type": "code",
      "execution_count": null,
      "metadata": {
        "id": "mak4d9yrTaSx"
      },
      "outputs": [],
      "source": [
        "cv2.imshow('Trudeau in Grey',image_g) \n",
        "cv2.waitKey()\n",
        "cv2.destroyAllWindows()#showing the bw image"
      ]
    },
    {
      "cell_type": "markdown",
      "source": [
        "# **Face Detection**"
      ],
      "metadata": {
        "id": "uzyp-_VJUq04"
      }
    },
    {
      "cell_type": "markdown",
      "source": [
        "## **Single Place Detection**"
      ],
      "metadata": {
        "id": "X61-WI4GUw3X"
      }
    },
    {
      "cell_type": "code",
      "execution_count": null,
      "metadata": {
        "id": "uDFgfmaLTaSx"
      },
      "outputs": [],
      "source": [
        "face_detection=cv2.CascadeClassifier(\"C:\\\\Users\\\\2211444\\\\Desktop\\\\face detection\\\\haarcascade_frontalface_default.xml\")"
      ]
    },
    {
      "cell_type": "code",
      "execution_count": null,
      "metadata": {
        "id": "UssG0GlpTaSy"
      },
      "outputs": [],
      "source": [
        "faces=face_detection.detectMultiScale(image_c,1.1,5) "
      ]
    },
    {
      "cell_type": "code",
      "execution_count": null,
      "metadata": {
        "id": "bBGH8AzwTaSz",
        "outputId": "f8bc47d2-c9a0-456e-e202-f09299f6a4bd"
      },
      "outputs": [
        {
          "data": {
            "text/plain": [
              "(1, 4)"
            ]
          },
          "execution_count": 8,
          "metadata": {},
          "output_type": "execute_result"
        }
      ],
      "source": [
        "faces.shape"
      ]
    },
    {
      "cell_type": "code",
      "execution_count": null,
      "metadata": {
        "id": "Tv0e20bSTaS0",
        "outputId": "428d5c2e-2cb4-4ba8-84c0-dd0a1f872b9f"
      },
      "outputs": [
        {
          "data": {
            "text/plain": [
              "array([[332, 121, 208, 208]])"
            ]
          },
          "execution_count": 9,
          "metadata": {},
          "output_type": "execute_result"
        }
      ],
      "source": [
        "faces #this is the coordinate for the area where it found the face"
      ]
    },
    {
      "cell_type": "code",
      "execution_count": null,
      "metadata": {
        "id": "XR5TJobfTaS1",
        "outputId": "eb5203d9-e12e-40eb-addf-169ef03218f2"
      },
      "outputs": [
        {
          "data": {
            "text/plain": [
              "array([121])"
            ]
          },
          "execution_count": 10,
          "metadata": {},
          "output_type": "execute_result"
        }
      ],
      "source": [
        "faces[:,1]"
      ]
    },
    {
      "cell_type": "code",
      "execution_count": null,
      "metadata": {
        "id": "KtevBqkITaS2"
      },
      "outputs": [],
      "source": [
        "x=int(faces[:,0])\n",
        "y=int(faces[:,1])\n",
        "w=int(faces[:,2])\n",
        "h=int(faces[:,3])\n",
        "\n",
        "cv2.rectangle(image_c,(x,y),(x+w,y+h),(0,255,255),3)\n",
        "cv2.imshow(\"Single  Face Detection\",image_c)\n",
        "cv2.waitKey(0)\n",
        "cv2.destroyAllWindows() "
      ]
    },
    {
      "cell_type": "markdown",
      "metadata": {
        "id": "-O6Nk9ZUTaS2"
      },
      "source": [
        "## **Multiple faces Detection**"
      ]
    },
    {
      "cell_type": "code",
      "execution_count": null,
      "metadata": {
        "id": "uLiAIE-YTaS4"
      },
      "outputs": [],
      "source": [
        "image_c=cv2.imread(\"C:\\\\Users\\\\2211444\\\\Desktop\\\\face detection\\\\Scientist.png\")"
      ]
    },
    {
      "cell_type": "code",
      "execution_count": null,
      "metadata": {
        "id": "zRyUh17kTaS5"
      },
      "outputs": [],
      "source": [
        "image_g=cv2.cvtColor(image_c,cv2.COLOR_BGR2GRAY)"
      ]
    },
    {
      "cell_type": "code",
      "execution_count": null,
      "metadata": {
        "id": "kQA9zfY4TaS6"
      },
      "outputs": [],
      "source": [
        "cv2.imshow('Scientist in Color',image_c)\n",
        "cv2.waitKey()\n",
        "cv2.destroyAllWindows()"
      ]
    },
    {
      "cell_type": "code",
      "execution_count": null,
      "metadata": {
        "id": "mKAG_6gGTaS6"
      },
      "outputs": [],
      "source": [
        "cv2.imshow('Scientist in greyscale',image_g)\n",
        "cv2.waitKey()\n",
        "cv2.destroyAllWindows()"
      ]
    },
    {
      "cell_type": "code",
      "execution_count": null,
      "metadata": {
        "id": "6W0u3e1STaS7"
      },
      "outputs": [],
      "source": [
        "face_detection=cv2.CascadeClassifier(\"C:\\\\Users\\\\2211444\\\\Desktop\\\\face detection\\\\haarcascade_frontalface_default.xml\")\n",
        "faces=face_detection.detectMultiScale(image_c,1.1,5)\n",
        "for (x,y,w,h) in faces:\n",
        "    cv2.rectangle(image_c,(x,y),(x+w,y+h),(255,0,255),10)\n",
        "    cv2.imshow('Single face Detection',image_c)\n",
        "    cv2.waitKey(0)\n",
        "    cv2.destroyAllWindows()"
      ]
    },
    {
      "cell_type": "markdown",
      "metadata": {
        "id": "pW30YriuTaS8"
      },
      "source": [
        "## **Eyes and faces Detection**"
      ]
    },
    {
      "cell_type": "code",
      "execution_count": null,
      "metadata": {
        "id": "JjmZWwQLTaS9"
      },
      "outputs": [],
      "source": [
        "image_c=cv2.imread(\"C:\\\\Users\\\\2211444\\\\Downloads\\\\Trudeau.png\")"
      ]
    },
    {
      "cell_type": "code",
      "execution_count": null,
      "metadata": {
        "id": "RjbRfwmMTaS9"
      },
      "outputs": [],
      "source": [
        "face_classifier=cv2.CascadeClassifier(\"C:\\\\Users\\\\2211444\\\\Desktop\\\\face detection\\\\haarcascade_frontalface_default.xml\")\n",
        "eye_classifier=cv2.CascadeClassifier(\"C:\\\\Users\\\\2211444\\\\Desktop\\\\face detection\\\\haarcascade_eye.xml\")"
      ]
    },
    {
      "cell_type": "code",
      "execution_count": null,
      "metadata": {
        "id": "5ToQBLgDTaS-"
      },
      "outputs": [],
      "source": [
        "faces = face_classifier.detectMultiScale(image_c, 1.2, 5)\n",
        " \n",
        "for (x,y,w,h) in faces:\n",
        "    cv2.rectangle(image_c,(x,y),(x+w,y+h),(0,255,255), 3)\n",
        "    cv2.imshow('Trudeau Face and Eyes',image_c)\n",
        "    cv2.waitKey(0)\n",
        "\n",
        "    # Select the face\n",
        "    face_region = image_c[y:y+h, x:x+w]\n",
        "\n",
        "    eyes = eye_classifier.detectMultiScale(face_region)\n",
        "\n",
        "    for (eyes_x, eyes_y, eyes_w,eyes_h) in eyes:\n",
        "        cv2.rectangle(face_region,(eyes_x, eyes_y),(eyes_x + eyes_w, eyes_y + eyes_h), (0,255,0),3)\n",
        "        cv2.imshow('Trudeau Face and Eyes',image_c)\n",
        "        cv2.waitKey(0)\n",
        "\n",
        "cv2.destroyAllWindows()"
      ]
    },
    {
      "cell_type": "code",
      "execution_count": null,
      "metadata": {
        "id": "sD80pxVaTaS_"
      },
      "outputs": [],
      "source": [
        "cv2.imshow('Face Region',image_c[y:y+h,x:x+w])\n",
        "cv2.waitKey(0)\n",
        "cv2.destroyAllWindows()"
      ]
    }
  ],
  "metadata": {
    "kernelspec": {
      "display_name": "Python 3",
      "language": "python",
      "name": "python3"
    },
    "language_info": {
      "codemirror_mode": {
        "name": "ipython",
        "version": 3
      },
      "file_extension": ".py",
      "mimetype": "text/x-python",
      "name": "python",
      "nbconvert_exporter": "python",
      "pygments_lexer": "ipython3",
      "version": "3.8.3"
    },
    "colab": {
      "provenance": [],
      "include_colab_link": true
    }
  },
  "nbformat": 4,
  "nbformat_minor": 0
}