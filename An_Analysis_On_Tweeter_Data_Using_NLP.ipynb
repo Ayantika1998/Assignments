{
  "nbformat": 4,
  "nbformat_minor": 0,
  "metadata": {
    "colab": {
      "provenance": [],
      "collapsed_sections": [],
      "include_colab_link": true
    },
    "kernelspec": {
      "name": "python3",
      "display_name": "Python 3"
    },
    "language_info": {
      "name": "python"
    }
  },
  "cells": [
    {
      "cell_type": "markdown",
      "metadata": {
        "id": "view-in-github",
        "colab_type": "text"
      },
      "source": [
        "<a href=\"https://colab.research.google.com/github/Ayantika1998/Assignments/blob/main/An_Analysis_On_Tweeter_Data_Using_NLP.ipynb\" target=\"_parent\"><img src=\"https://colab.research.google.com/assets/colab-badge.svg\" alt=\"Open In Colab\"/></a>"
      ]
    },
    {
      "cell_type": "markdown",
      "source": [
        "# **Importing Libraries**"
      ],
      "metadata": {
        "id": "W82xR5-s8xrn"
      }
    },
    {
      "cell_type": "code",
      "execution_count": 37,
      "metadata": {
        "id": "SWxzvYdDhp2T"
      },
      "outputs": [],
      "source": [
        "import pandas as pd\n",
        "import matplotlib.pyplot as plt\n",
        "import re #re - A regular expression specifies a set of strings that matches it"
      ]
    },
    {
      "cell_type": "markdown",
      "source": [
        "# **Loading and checking Dataset**"
      ],
      "metadata": {
        "id": "2zCX0isS84tD"
      }
    },
    {
      "cell_type": "code",
      "source": [
        "inp_tweets0=pd.read_csv('raw_tweets_economy.txt',sep=\"\\t\")\n",
        "inp_tweets0.head(20)"
      ],
      "metadata": {
        "colab": {
          "base_uri": "https://localhost:8080/",
          "height": 676
        },
        "id": "hP-NXUCHGp2Q",
        "outputId": "7c430391-644b-4237-a224-0fe5dd1f0ef8"
      },
      "execution_count": 38,
      "outputs": [
        {
          "output_type": "execute_result",
          "data": {
            "text/plain": [
              "    Unnamed: 0                                                  0\n",
              "0            0  Stocks losses deepen as a key recession warnin...\n",
              "1            1  RT @CallMeAhmjusAyn: The #economy.\\r\\n@FoxNews...\n",
              "2            2  AP Explains: Is the US economy nearing a reces...\n",
              "3            3  A @JobCreatorsUSA / https://t.co/JXEt7hQU4k su...\n",
              "4            4  Who will stop mr. Mario Draghi and the ECB wit...\n",
              "5            5  Studying on Quizlet: The economy in Argentina\\...\n",
              "6            6  RT @RKrivoFX: U.S. #Futures Rebound on #Trade ...\n",
              "7            7  RT @elerianm: Looking forward to discussing al...\n",
              "8            8  @JohnJHarwood @reginaw50361 The #economy is li...\n",
              "9            9  The #economy.\\r\\n@FoxNews @realDonaldTrump \\r\\...\n",
              "10          10  @aparanjape Why @iitmpune isn't sharing such i...\n",
              "11          11  RT @aseip1: A recession is looming in the US. ...\n",
              "12          12  Looking forward to discussing all this -- and ...\n",
              "13          13  RT @aseip1: A recession is looming in the US. ...\n",
              "14          14  The White House is sensitive to expectations f...\n",
              "15          15  #Thursday's edition of #ConversationsDailyNews...\n",
              "16          16  The  #InvertedYieldCurve in the U.S. remains i...\n",
              "17          17  RT @michaeljohns: .@realDonaldTrump has transf...\n",
              "18          18  Hungary GDP growth up 5.1 percent in Q2 year-o...\n",
              "19          19  Industrial production down by 1.6% in euro are..."
            ],
            "text/html": [
              "\n",
              "  <div id=\"df-61e02c21-e0b9-4ee8-8142-2bdfcd4388f6\">\n",
              "    <div class=\"colab-df-container\">\n",
              "      <div>\n",
              "<style scoped>\n",
              "    .dataframe tbody tr th:only-of-type {\n",
              "        vertical-align: middle;\n",
              "    }\n",
              "\n",
              "    .dataframe tbody tr th {\n",
              "        vertical-align: top;\n",
              "    }\n",
              "\n",
              "    .dataframe thead th {\n",
              "        text-align: right;\n",
              "    }\n",
              "</style>\n",
              "<table border=\"1\" class=\"dataframe\">\n",
              "  <thead>\n",
              "    <tr style=\"text-align: right;\">\n",
              "      <th></th>\n",
              "      <th>Unnamed: 0</th>\n",
              "      <th>0</th>\n",
              "    </tr>\n",
              "  </thead>\n",
              "  <tbody>\n",
              "    <tr>\n",
              "      <th>0</th>\n",
              "      <td>0</td>\n",
              "      <td>Stocks losses deepen as a key recession warnin...</td>\n",
              "    </tr>\n",
              "    <tr>\n",
              "      <th>1</th>\n",
              "      <td>1</td>\n",
              "      <td>RT @CallMeAhmjusAyn: The #economy.\\r\\n@FoxNews...</td>\n",
              "    </tr>\n",
              "    <tr>\n",
              "      <th>2</th>\n",
              "      <td>2</td>\n",
              "      <td>AP Explains: Is the US economy nearing a reces...</td>\n",
              "    </tr>\n",
              "    <tr>\n",
              "      <th>3</th>\n",
              "      <td>3</td>\n",
              "      <td>A @JobCreatorsUSA / https://t.co/JXEt7hQU4k su...</td>\n",
              "    </tr>\n",
              "    <tr>\n",
              "      <th>4</th>\n",
              "      <td>4</td>\n",
              "      <td>Who will stop mr. Mario Draghi and the ECB wit...</td>\n",
              "    </tr>\n",
              "    <tr>\n",
              "      <th>5</th>\n",
              "      <td>5</td>\n",
              "      <td>Studying on Quizlet: The economy in Argentina\\...</td>\n",
              "    </tr>\n",
              "    <tr>\n",
              "      <th>6</th>\n",
              "      <td>6</td>\n",
              "      <td>RT @RKrivoFX: U.S. #Futures Rebound on #Trade ...</td>\n",
              "    </tr>\n",
              "    <tr>\n",
              "      <th>7</th>\n",
              "      <td>7</td>\n",
              "      <td>RT @elerianm: Looking forward to discussing al...</td>\n",
              "    </tr>\n",
              "    <tr>\n",
              "      <th>8</th>\n",
              "      <td>8</td>\n",
              "      <td>@JohnJHarwood @reginaw50361 The #economy is li...</td>\n",
              "    </tr>\n",
              "    <tr>\n",
              "      <th>9</th>\n",
              "      <td>9</td>\n",
              "      <td>The #economy.\\r\\n@FoxNews @realDonaldTrump \\r\\...</td>\n",
              "    </tr>\n",
              "    <tr>\n",
              "      <th>10</th>\n",
              "      <td>10</td>\n",
              "      <td>@aparanjape Why @iitmpune isn't sharing such i...</td>\n",
              "    </tr>\n",
              "    <tr>\n",
              "      <th>11</th>\n",
              "      <td>11</td>\n",
              "      <td>RT @aseip1: A recession is looming in the US. ...</td>\n",
              "    </tr>\n",
              "    <tr>\n",
              "      <th>12</th>\n",
              "      <td>12</td>\n",
              "      <td>Looking forward to discussing all this -- and ...</td>\n",
              "    </tr>\n",
              "    <tr>\n",
              "      <th>13</th>\n",
              "      <td>13</td>\n",
              "      <td>RT @aseip1: A recession is looming in the US. ...</td>\n",
              "    </tr>\n",
              "    <tr>\n",
              "      <th>14</th>\n",
              "      <td>14</td>\n",
              "      <td>The White House is sensitive to expectations f...</td>\n",
              "    </tr>\n",
              "    <tr>\n",
              "      <th>15</th>\n",
              "      <td>15</td>\n",
              "      <td>#Thursday's edition of #ConversationsDailyNews...</td>\n",
              "    </tr>\n",
              "    <tr>\n",
              "      <th>16</th>\n",
              "      <td>16</td>\n",
              "      <td>The  #InvertedYieldCurve in the U.S. remains i...</td>\n",
              "    </tr>\n",
              "    <tr>\n",
              "      <th>17</th>\n",
              "      <td>17</td>\n",
              "      <td>RT @michaeljohns: .@realDonaldTrump has transf...</td>\n",
              "    </tr>\n",
              "    <tr>\n",
              "      <th>18</th>\n",
              "      <td>18</td>\n",
              "      <td>Hungary GDP growth up 5.1 percent in Q2 year-o...</td>\n",
              "    </tr>\n",
              "    <tr>\n",
              "      <th>19</th>\n",
              "      <td>19</td>\n",
              "      <td>Industrial production down by 1.6% in euro are...</td>\n",
              "    </tr>\n",
              "  </tbody>\n",
              "</table>\n",
              "</div>\n",
              "      <button class=\"colab-df-convert\" onclick=\"convertToInteractive('df-61e02c21-e0b9-4ee8-8142-2bdfcd4388f6')\"\n",
              "              title=\"Convert this dataframe to an interactive table.\"\n",
              "              style=\"display:none;\">\n",
              "        \n",
              "  <svg xmlns=\"http://www.w3.org/2000/svg\" height=\"24px\"viewBox=\"0 0 24 24\"\n",
              "       width=\"24px\">\n",
              "    <path d=\"M0 0h24v24H0V0z\" fill=\"none\"/>\n",
              "    <path d=\"M18.56 5.44l.94 2.06.94-2.06 2.06-.94-2.06-.94-.94-2.06-.94 2.06-2.06.94zm-11 1L8.5 8.5l.94-2.06 2.06-.94-2.06-.94L8.5 2.5l-.94 2.06-2.06.94zm10 10l.94 2.06.94-2.06 2.06-.94-2.06-.94-.94-2.06-.94 2.06-2.06.94z\"/><path d=\"M17.41 7.96l-1.37-1.37c-.4-.4-.92-.59-1.43-.59-.52 0-1.04.2-1.43.59L10.3 9.45l-7.72 7.72c-.78.78-.78 2.05 0 2.83L4 21.41c.39.39.9.59 1.41.59.51 0 1.02-.2 1.41-.59l7.78-7.78 2.81-2.81c.8-.78.8-2.07 0-2.86zM5.41 20L4 18.59l7.72-7.72 1.47 1.35L5.41 20z\"/>\n",
              "  </svg>\n",
              "      </button>\n",
              "      \n",
              "  <style>\n",
              "    .colab-df-container {\n",
              "      display:flex;\n",
              "      flex-wrap:wrap;\n",
              "      gap: 12px;\n",
              "    }\n",
              "\n",
              "    .colab-df-convert {\n",
              "      background-color: #E8F0FE;\n",
              "      border: none;\n",
              "      border-radius: 50%;\n",
              "      cursor: pointer;\n",
              "      display: none;\n",
              "      fill: #1967D2;\n",
              "      height: 32px;\n",
              "      padding: 0 0 0 0;\n",
              "      width: 32px;\n",
              "    }\n",
              "\n",
              "    .colab-df-convert:hover {\n",
              "      background-color: #E2EBFA;\n",
              "      box-shadow: 0px 1px 2px rgba(60, 64, 67, 0.3), 0px 1px 3px 1px rgba(60, 64, 67, 0.15);\n",
              "      fill: #174EA6;\n",
              "    }\n",
              "\n",
              "    [theme=dark] .colab-df-convert {\n",
              "      background-color: #3B4455;\n",
              "      fill: #D2E3FC;\n",
              "    }\n",
              "\n",
              "    [theme=dark] .colab-df-convert:hover {\n",
              "      background-color: #434B5C;\n",
              "      box-shadow: 0px 1px 3px 1px rgba(0, 0, 0, 0.15);\n",
              "      filter: drop-shadow(0px 1px 2px rgba(0, 0, 0, 0.3));\n",
              "      fill: #FFFFFF;\n",
              "    }\n",
              "  </style>\n",
              "\n",
              "      <script>\n",
              "        const buttonEl =\n",
              "          document.querySelector('#df-61e02c21-e0b9-4ee8-8142-2bdfcd4388f6 button.colab-df-convert');\n",
              "        buttonEl.style.display =\n",
              "          google.colab.kernel.accessAllowed ? 'block' : 'none';\n",
              "\n",
              "        async function convertToInteractive(key) {\n",
              "          const element = document.querySelector('#df-61e02c21-e0b9-4ee8-8142-2bdfcd4388f6');\n",
              "          const dataTable =\n",
              "            await google.colab.kernel.invokeFunction('convertToInteractive',\n",
              "                                                     [key], {});\n",
              "          if (!dataTable) return;\n",
              "\n",
              "          const docLinkHtml = 'Like what you see? Visit the ' +\n",
              "            '<a target=\"_blank\" href=https://colab.research.google.com/notebooks/data_table.ipynb>data table notebook</a>'\n",
              "            + ' to learn more about interactive tables.';\n",
              "          element.innerHTML = '';\n",
              "          dataTable['output_type'] = 'display_data';\n",
              "          await google.colab.output.renderOutput(dataTable, element);\n",
              "          const docLink = document.createElement('div');\n",
              "          docLink.innerHTML = docLinkHtml;\n",
              "          element.appendChild(docLink);\n",
              "        }\n",
              "      </script>\n",
              "    </div>\n",
              "  </div>\n",
              "  "
            ]
          },
          "metadata": {},
          "execution_count": 38
        }
      ]
    },
    {
      "cell_type": "markdown",
      "source": [
        "# **Data Preprocessing**\n"
      ],
      "metadata": {
        "id": "NeadIn_g9D0V"
      }
    },
    {
      "cell_type": "markdown",
      "source": [
        "**Deleting the extra column Unnamed: 0**"
      ],
      "metadata": {
        "id": "achHFyRo9WV7"
      }
    },
    {
      "cell_type": "code",
      "source": [
        "inp_tweets0.drop(\"Unnamed: 0\", inplace=True, axis=1)"
      ],
      "metadata": {
        "id": "lwn-92hyHQbz"
      },
      "execution_count": 39,
      "outputs": []
    },
    {
      "cell_type": "code",
      "source": [
        "inp_tweets0.shape "
      ],
      "metadata": {
        "colab": {
          "base_uri": "https://localhost:8080/"
        },
        "id": "ja7132v7HjyI",
        "outputId": "73ba368c-6193-4c6f-b420-05d362a73fbf"
      },
      "execution_count": 40,
      "outputs": [
        {
          "output_type": "execute_result",
          "data": {
            "text/plain": [
              "(500, 1)"
            ]
          },
          "metadata": {},
          "execution_count": 40
        }
      ]
    },
    {
      "cell_type": "code",
      "source": [
        "inp_tweets0.head()"
      ],
      "metadata": {
        "colab": {
          "base_uri": "https://localhost:8080/",
          "height": 206
        },
        "id": "5z5jeLjuHnyr",
        "outputId": "b0081d74-d03d-4124-8794-2ac0b49fdc5e"
      },
      "execution_count": 41,
      "outputs": [
        {
          "output_type": "execute_result",
          "data": {
            "text/plain": [
              "                                                   0\n",
              "0  Stocks losses deepen as a key recession warnin...\n",
              "1  RT @CallMeAhmjusAyn: The #economy.\\r\\n@FoxNews...\n",
              "2  AP Explains: Is the US economy nearing a reces...\n",
              "3  A @JobCreatorsUSA / https://t.co/JXEt7hQU4k su...\n",
              "4  Who will stop mr. Mario Draghi and the ECB wit..."
            ],
            "text/html": [
              "\n",
              "  <div id=\"df-3b5580bb-649a-420b-af4f-4dac96bbe2d9\">\n",
              "    <div class=\"colab-df-container\">\n",
              "      <div>\n",
              "<style scoped>\n",
              "    .dataframe tbody tr th:only-of-type {\n",
              "        vertical-align: middle;\n",
              "    }\n",
              "\n",
              "    .dataframe tbody tr th {\n",
              "        vertical-align: top;\n",
              "    }\n",
              "\n",
              "    .dataframe thead th {\n",
              "        text-align: right;\n",
              "    }\n",
              "</style>\n",
              "<table border=\"1\" class=\"dataframe\">\n",
              "  <thead>\n",
              "    <tr style=\"text-align: right;\">\n",
              "      <th></th>\n",
              "      <th>0</th>\n",
              "    </tr>\n",
              "  </thead>\n",
              "  <tbody>\n",
              "    <tr>\n",
              "      <th>0</th>\n",
              "      <td>Stocks losses deepen as a key recession warnin...</td>\n",
              "    </tr>\n",
              "    <tr>\n",
              "      <th>1</th>\n",
              "      <td>RT @CallMeAhmjusAyn: The #economy.\\r\\n@FoxNews...</td>\n",
              "    </tr>\n",
              "    <tr>\n",
              "      <th>2</th>\n",
              "      <td>AP Explains: Is the US economy nearing a reces...</td>\n",
              "    </tr>\n",
              "    <tr>\n",
              "      <th>3</th>\n",
              "      <td>A @JobCreatorsUSA / https://t.co/JXEt7hQU4k su...</td>\n",
              "    </tr>\n",
              "    <tr>\n",
              "      <th>4</th>\n",
              "      <td>Who will stop mr. Mario Draghi and the ECB wit...</td>\n",
              "    </tr>\n",
              "  </tbody>\n",
              "</table>\n",
              "</div>\n",
              "      <button class=\"colab-df-convert\" onclick=\"convertToInteractive('df-3b5580bb-649a-420b-af4f-4dac96bbe2d9')\"\n",
              "              title=\"Convert this dataframe to an interactive table.\"\n",
              "              style=\"display:none;\">\n",
              "        \n",
              "  <svg xmlns=\"http://www.w3.org/2000/svg\" height=\"24px\"viewBox=\"0 0 24 24\"\n",
              "       width=\"24px\">\n",
              "    <path d=\"M0 0h24v24H0V0z\" fill=\"none\"/>\n",
              "    <path d=\"M18.56 5.44l.94 2.06.94-2.06 2.06-.94-2.06-.94-.94-2.06-.94 2.06-2.06.94zm-11 1L8.5 8.5l.94-2.06 2.06-.94-2.06-.94L8.5 2.5l-.94 2.06-2.06.94zm10 10l.94 2.06.94-2.06 2.06-.94-2.06-.94-.94-2.06-.94 2.06-2.06.94z\"/><path d=\"M17.41 7.96l-1.37-1.37c-.4-.4-.92-.59-1.43-.59-.52 0-1.04.2-1.43.59L10.3 9.45l-7.72 7.72c-.78.78-.78 2.05 0 2.83L4 21.41c.39.39.9.59 1.41.59.51 0 1.02-.2 1.41-.59l7.78-7.78 2.81-2.81c.8-.78.8-2.07 0-2.86zM5.41 20L4 18.59l7.72-7.72 1.47 1.35L5.41 20z\"/>\n",
              "  </svg>\n",
              "      </button>\n",
              "      \n",
              "  <style>\n",
              "    .colab-df-container {\n",
              "      display:flex;\n",
              "      flex-wrap:wrap;\n",
              "      gap: 12px;\n",
              "    }\n",
              "\n",
              "    .colab-df-convert {\n",
              "      background-color: #E8F0FE;\n",
              "      border: none;\n",
              "      border-radius: 50%;\n",
              "      cursor: pointer;\n",
              "      display: none;\n",
              "      fill: #1967D2;\n",
              "      height: 32px;\n",
              "      padding: 0 0 0 0;\n",
              "      width: 32px;\n",
              "    }\n",
              "\n",
              "    .colab-df-convert:hover {\n",
              "      background-color: #E2EBFA;\n",
              "      box-shadow: 0px 1px 2px rgba(60, 64, 67, 0.3), 0px 1px 3px 1px rgba(60, 64, 67, 0.15);\n",
              "      fill: #174EA6;\n",
              "    }\n",
              "\n",
              "    [theme=dark] .colab-df-convert {\n",
              "      background-color: #3B4455;\n",
              "      fill: #D2E3FC;\n",
              "    }\n",
              "\n",
              "    [theme=dark] .colab-df-convert:hover {\n",
              "      background-color: #434B5C;\n",
              "      box-shadow: 0px 1px 3px 1px rgba(0, 0, 0, 0.15);\n",
              "      filter: drop-shadow(0px 1px 2px rgba(0, 0, 0, 0.3));\n",
              "      fill: #FFFFFF;\n",
              "    }\n",
              "  </style>\n",
              "\n",
              "      <script>\n",
              "        const buttonEl =\n",
              "          document.querySelector('#df-3b5580bb-649a-420b-af4f-4dac96bbe2d9 button.colab-df-convert');\n",
              "        buttonEl.style.display =\n",
              "          google.colab.kernel.accessAllowed ? 'block' : 'none';\n",
              "\n",
              "        async function convertToInteractive(key) {\n",
              "          const element = document.querySelector('#df-3b5580bb-649a-420b-af4f-4dac96bbe2d9');\n",
              "          const dataTable =\n",
              "            await google.colab.kernel.invokeFunction('convertToInteractive',\n",
              "                                                     [key], {});\n",
              "          if (!dataTable) return;\n",
              "\n",
              "          const docLinkHtml = 'Like what you see? Visit the ' +\n",
              "            '<a target=\"_blank\" href=https://colab.research.google.com/notebooks/data_table.ipynb>data table notebook</a>'\n",
              "            + ' to learn more about interactive tables.';\n",
              "          element.innerHTML = '';\n",
              "          dataTable['output_type'] = 'display_data';\n",
              "          await google.colab.output.renderOutput(dataTable, element);\n",
              "          const docLink = document.createElement('div');\n",
              "          docLink.innerHTML = docLinkHtml;\n",
              "          element.appendChild(docLink);\n",
              "        }\n",
              "      </script>\n",
              "    </div>\n",
              "  </div>\n",
              "  "
            ]
          },
          "metadata": {},
          "execution_count": 41
        }
      ]
    },
    {
      "cell_type": "markdown",
      "source": [
        "**Renaming the column 0 as tweet**"
      ],
      "metadata": {
        "id": "RLRtADpU9hjN"
      }
    },
    {
      "cell_type": "code",
      "source": [
        "inp_tweets0=inp_tweets0.rename({'0':'tweet'}, axis=1)\n",
        "inp_tweets0.tail "
      ],
      "metadata": {
        "colab": {
          "base_uri": "https://localhost:8080/"
        },
        "id": "9QEn6spIHuuo",
        "outputId": "d11b1cfe-d4cb-4800-e7b7-0776b9323ee6"
      },
      "execution_count": 42,
      "outputs": [
        {
          "output_type": "execute_result",
          "data": {
            "text/plain": [
              "<bound method NDFrame.tail of                                                  tweet\n",
              "0    Stocks losses deepen as a key recession warnin...\n",
              "1    RT @CallMeAhmjusAyn: The #economy.\\r\\n@FoxNews...\n",
              "2    AP Explains: Is the US economy nearing a reces...\n",
              "3    A @JobCreatorsUSA / https://t.co/JXEt7hQU4k su...\n",
              "4    Who will stop mr. Mario Draghi and the ECB wit...\n",
              "..                                                 ...\n",
              "495  RT @michaeljohns: .@realDonaldTrump has transf...\n",
              "496  RT @Emile1chedid: #Lebanon #Beirut #politics #...\n",
              "497  RT @michaeljohns: .@realDonaldTrump has transf...\n",
              "498  RT @farhadrahaei: RT.@HeshmatAlavi's #Facts #T...\n",
              "499  #PrimeMinister @narendramodi commits to pumpin...\n",
              "\n",
              "[500 rows x 1 columns]>"
            ]
          },
          "metadata": {},
          "execution_count": 42
        }
      ]
    },
    {
      "cell_type": "markdown",
      "source": [
        "**Getting the tweets into a lists, for easy text cleanup and manipulation**"
      ],
      "metadata": {
        "id": "BVGJM1ruIhMX"
      }
    },
    {
      "cell_type": "code",
      "source": [
        "inp_tweets0.tweet.sample().values"
      ],
      "metadata": {
        "colab": {
          "base_uri": "https://localhost:8080/"
        },
        "id": "mN2SyPLQIEpG",
        "outputId": "b3ed8505-74a0-45ed-f97f-8a4a5ff0c653"
      },
      "execution_count": 43,
      "outputs": [
        {
          "output_type": "execute_result",
          "data": {
            "text/plain": [
              "array(['RT @tweetMalena: #TraitorTrump has taken our booming Obama #economy &amp; destroyed it via outrageous #deficits and #tradewars! This #TrumpSlum…'],\n",
              "      dtype=object)"
            ]
          },
          "metadata": {},
          "execution_count": 43
        }
      ]
    },
    {
      "cell_type": "code",
      "source": [
        "tweets0=inp_tweets0.tweet.values"
      ],
      "metadata": {
        "id": "taQ3ZZSA8sOX"
      },
      "execution_count": 44,
      "outputs": []
    },
    {
      "cell_type": "markdown",
      "source": [
        "**Showing the top 5 trending tweets tags**"
      ],
      "metadata": {
        "id": "tp09Cv5gIru1"
      }
    },
    {
      "cell_type": "code",
      "source": [
        "tweets0[:5]"
      ],
      "metadata": {
        "colab": {
          "base_uri": "https://localhost:8080/"
        },
        "id": "xnxVWfPTIKCz",
        "outputId": "6513a5d4-73b0-435b-8bca-b523e36c9f60"
      },
      "execution_count": 45,
      "outputs": [
        {
          "output_type": "execute_result",
          "data": {
            "text/plain": [
              "array(['Stocks losses deepen as a key recession warning surfaces @GOP #economy #fail #collapse #recession #gop #greed… https://t.co/F8kazAixUk',\n",
              "       \"RT @CallMeAhmjusAyn: The #economy.\\r\\n@FoxNews @realDonaldTrump \\r\\n#Trump is an ejit.\\r\\n#maga #TrumpTrain2020 #sheeple are idiot's.\\r\\n#farming #Trad…\",\n",
              "       'AP Explains: Is the US economy nearing a recession? \\r\\n#Business\\r\\n#Economy\\r\\n#Recession\\r\\n#TradeWar\\r\\n#China\\r\\n#EU… https://t.co/0jtsR2kSxi',\n",
              "       'A @JobCreatorsUSA / https://t.co/JXEt7hQU4k survey completed Tuesday, 56% rated the #economy as good or excellent,… https://t.co/j1XMiptADx',\n",
              "       'Who will stop mr. Mario Draghi and the ECB with this counterproductive course of money dumping / zero interests? It… https://t.co/eweIrVuOK0'],\n",
              "      dtype=object)"
            ]
          },
          "metadata": {},
          "execution_count": 45
        }
      ]
    },
    {
      "cell_type": "code",
      "source": [
        "len(tweets0) "
      ],
      "metadata": {
        "colab": {
          "base_uri": "https://localhost:8080/"
        },
        "id": "rmSHH5wmIceU",
        "outputId": "6e099499-78ee-4028-9bbc-4ba28c9a47bb"
      },
      "execution_count": 46,
      "outputs": [
        {
          "output_type": "execute_result",
          "data": {
            "text/plain": [
              "500"
            ]
          },
          "metadata": {},
          "execution_count": 46
        }
      ]
    },
    {
      "cell_type": "markdown",
      "source": [
        "## **Cleanup**"
      ],
      "metadata": {
        "id": "wZvfvURuJAct"
      }
    },
    {
      "cell_type": "markdown",
      "source": [
        "**The tweets contain**\n",
        "* **URLs**\n",
        "* **Hastags and at_the_rate** \n",
        "* **Retweet**\n",
        "* **Upper Case and lower case**\n",
        "\n",
        "Cleaning up the data by removing these\n",
        "\n"
      ],
      "metadata": {
        "id": "Mw6-6S7BI1Wv"
      }
    },
    {
      "cell_type": "markdown",
      "source": [
        "**Normalizing case**\n",
        "\n",
        "We will convert to lower case"
      ],
      "metadata": {
        "id": "t5WSq-P4JDPi"
      }
    },
    {
      "cell_type": "code",
      "source": [
        "tweets_lower=[twt.lower() for twt in tweets0] #tweets_lower contains full dataset but in small letter"
      ],
      "metadata": {
        "id": "yhmmG4glIec1"
      },
      "execution_count": 47,
      "outputs": []
    },
    {
      "cell_type": "code",
      "source": [
        "tweets_lower[:5]"
      ],
      "metadata": {
        "colab": {
          "base_uri": "https://localhost:8080/"
        },
        "id": "NS6SyTHcJLZ7",
        "outputId": "cbb687ef-453c-4480-9e5b-6dcb2b6db373"
      },
      "execution_count": 48,
      "outputs": [
        {
          "output_type": "execute_result",
          "data": {
            "text/plain": [
              "['stocks losses deepen as a key recession warning surfaces @gop #economy #fail #collapse #recession #gop #greed… https://t.co/f8kazaixuk',\n",
              " \"rt @callmeahmjusayn: the #economy.\\r\\n@foxnews @realdonaldtrump \\r\\n#trump is an ejit.\\r\\n#maga #trumptrain2020 #sheeple are idiot's.\\r\\n#farming #trad…\",\n",
              " 'ap explains: is the us economy nearing a recession? \\r\\n#business\\r\\n#economy\\r\\n#recession\\r\\n#tradewar\\r\\n#china\\r\\n#eu… https://t.co/0jtsr2ksxi',\n",
              " 'a @jobcreatorsusa / https://t.co/jxet7hqu4k survey completed tuesday, 56% rated the #economy as good or excellent,… https://t.co/j1xmiptadx',\n",
              " 'who will stop mr. mario draghi and the ecb with this counterproductive course of money dumping / zero interests? it… https://t.co/eweirvuok0']"
            ]
          },
          "metadata": {},
          "execution_count": 48
        }
      ]
    },
    {
      "cell_type": "markdown",
      "source": [
        "**Remove user handles begin with @**"
      ],
      "metadata": {
        "id": "eywjRy0CJr89"
      }
    },
    {
      "cell_type": "code",
      "source": [
        "import re #it is used to extract email, @, user handle etc at a very fast rate"
      ],
      "metadata": {
        "id": "y55y0bWCJQHW"
      },
      "execution_count": 49,
      "outputs": []
    },
    {
      "cell_type": "code",
      "source": [
        "#re. sub( ) - This function is used to substitute a substring with another substring\n",
        "re.sub(\"@\\w+\",\"\", \"@Rahim this course rocks! http://rahimbaig.com/ai\") #it is used for testing"
      ],
      "metadata": {
        "colab": {
          "base_uri": "https://localhost:8080/",
          "height": 35
        },
        "id": "Cz_I5zPvJ5lr",
        "outputId": "d7f161f6-9a65-41af-d2ee-2b0c50e3a862"
      },
      "execution_count": 50,
      "outputs": [
        {
          "output_type": "execute_result",
          "data": {
            "text/plain": [
              "' this course rocks! http://rahimbaig.com/ai'"
            ],
            "application/vnd.google.colaboratory.intrinsic+json": {
              "type": "string"
            }
          },
          "metadata": {},
          "execution_count": 50
        }
      ]
    },
    {
      "cell_type": "code",
      "source": [
        "tweets_nouser=[re.sub(\"@\\w+\",\"\", tweet)    #removing @ from the tweet data\n",
        "              for tweet in tweets_lower]"
      ],
      "metadata": {
        "id": "o6JHl7VVKRvu"
      },
      "execution_count": 51,
      "outputs": []
    },
    {
      "cell_type": "code",
      "source": [
        "tweets_nouser[:5] #checking the dataset"
      ],
      "metadata": {
        "colab": {
          "base_uri": "https://localhost:8080/"
        },
        "id": "tAkDVAY8KgPH",
        "outputId": "d7acab4c-98e0-4a37-f9ce-2312e2dbac48"
      },
      "execution_count": 52,
      "outputs": [
        {
          "output_type": "execute_result",
          "data": {
            "text/plain": [
              "['stocks losses deepen as a key recession warning surfaces  #economy #fail #collapse #recession #gop #greed… https://t.co/f8kazaixuk',\n",
              " \"rt : the #economy.\\r\\n  \\r\\n#trump is an ejit.\\r\\n#maga #trumptrain2020 #sheeple are idiot's.\\r\\n#farming #trad…\",\n",
              " 'ap explains: is the us economy nearing a recession? \\r\\n#business\\r\\n#economy\\r\\n#recession\\r\\n#tradewar\\r\\n#china\\r\\n#eu… https://t.co/0jtsr2ksxi',\n",
              " 'a  / https://t.co/jxet7hqu4k survey completed tuesday, 56% rated the #economy as good or excellent,… https://t.co/j1xmiptadx',\n",
              " 'who will stop mr. mario draghi and the ecb with this counterproductive course of money dumping / zero interests? it… https://t.co/eweirvuok0']"
            ]
          },
          "metadata": {},
          "execution_count": 52
        }
      ]
    },
    {
      "cell_type": "code",
      "source": [
        "len(tweets_nouser) "
      ],
      "metadata": {
        "colab": {
          "base_uri": "https://localhost:8080/"
        },
        "id": "RCajkYom7Je2",
        "outputId": "109a1a65-ca4b-4fc5-8dd2-2177f28425f0"
      },
      "execution_count": 53,
      "outputs": [
        {
          "output_type": "execute_result",
          "data": {
            "text/plain": [
              "500"
            ]
          },
          "metadata": {},
          "execution_count": 53
        }
      ]
    },
    {
      "cell_type": "markdown",
      "source": [
        "**Remove URLs**"
      ],
      "metadata": {
        "id": "EyavxgCwKqEJ"
      }
    },
    {
      "cell_type": "code",
      "source": [
        "#re. sub( ) - This function is used to substitute a substring with another substring\n",
        "re.sub(\"\\w+://\\S+\",\"\", \"@Rahim this course rocks! http://rahimbaig.com/ai\") #it is used for testing"
      ],
      "metadata": {
        "colab": {
          "base_uri": "https://localhost:8080/",
          "height": 35
        },
        "id": "GBZswmqDKjoL",
        "outputId": "be3951a9-8490-4a97-e63a-18c252ea2b67"
      },
      "execution_count": 54,
      "outputs": [
        {
          "output_type": "execute_result",
          "data": {
            "text/plain": [
              "'@Rahim this course rocks! '"
            ],
            "application/vnd.google.colaboratory.intrinsic+json": {
              "type": "string"
            }
          },
          "metadata": {},
          "execution_count": 54
        }
      ]
    },
    {
      "cell_type": "code",
      "source": [
        "tweets_nourl=[re.sub(\"\\w+://\\S+\",\"\", twt)  #removing URLs from the tweet data\n",
        "              for twt in tweets_nouser]"
      ],
      "metadata": {
        "id": "tMIbr2rlLF_d"
      },
      "execution_count": 55,
      "outputs": []
    },
    {
      "cell_type": "code",
      "source": [
        "tweets_nourl[:5] #checking the dataset"
      ],
      "metadata": {
        "colab": {
          "base_uri": "https://localhost:8080/"
        },
        "id": "6rfVSWV2Livr",
        "outputId": "f8d141dd-4dcf-4c92-a635-24a39f664cf3"
      },
      "execution_count": 56,
      "outputs": [
        {
          "output_type": "execute_result",
          "data": {
            "text/plain": [
              "['stocks losses deepen as a key recession warning surfaces  #economy #fail #collapse #recession #gop #greed… ',\n",
              " \"rt : the #economy.\\r\\n  \\r\\n#trump is an ejit.\\r\\n#maga #trumptrain2020 #sheeple are idiot's.\\r\\n#farming #trad…\",\n",
              " 'ap explains: is the us economy nearing a recession? \\r\\n#business\\r\\n#economy\\r\\n#recession\\r\\n#tradewar\\r\\n#china\\r\\n#eu… ',\n",
              " 'a  /  survey completed tuesday, 56% rated the #economy as good or excellent,… ',\n",
              " 'who will stop mr. mario draghi and the ecb with this counterproductive course of money dumping / zero interests? it… ']"
            ]
          },
          "metadata": {},
          "execution_count": 56
        }
      ]
    },
    {
      "cell_type": "code",
      "source": [
        "tweets_nourl[-5:] #checking the dataset"
      ],
      "metadata": {
        "colab": {
          "base_uri": "https://localhost:8080/"
        },
        "id": "IJmaaTP0LpSk",
        "outputId": "e361337f-423a-46c5-c34f-c915adab9d08"
      },
      "execution_count": 57,
      "outputs": [
        {
          "output_type": "execute_result",
          "data": {
            "text/plain": [
              "['rt : . has transformed (and expanded) the republican party, making it the party of blue collar working america…',\n",
              " 'rt : #lebanon #beirut #politics #economy #commerce #funny #daily #media #crazy #science #food\\r\\n',\n",
              " 'rt : . has transformed (and expanded) the republican party, making it the party of blue collar working america…',\n",
              " \"rt : rt.'s #facts #thread\\r\\n1). blames u.s. sanctions for #iran’s crumbling #economy. #blacklistirgc #corrupti…\",\n",
              " '#primeminister  commits to pumping 1.4$tr into the #economy of #india via #infrastructure projects .… ']"
            ]
          },
          "metadata": {},
          "execution_count": 57
        }
      ]
    },
    {
      "cell_type": "code",
      "source": [
        "len(tweets_nourl)"
      ],
      "metadata": {
        "colab": {
          "base_uri": "https://localhost:8080/"
        },
        "id": "E4G-OFSv679l",
        "outputId": "757fcd19-5b34-4111-fc2f-555409f9323e"
      },
      "execution_count": 58,
      "outputs": [
        {
          "output_type": "execute_result",
          "data": {
            "text/plain": [
              "500"
            ]
          },
          "metadata": {},
          "execution_count": 58
        }
      ]
    },
    {
      "cell_type": "markdown",
      "source": [
        "## **Extracting only the #  from tweets**  - \n",
        "we want to analyse the most common in the tweets"
      ],
      "metadata": {
        "id": "LFc_tv8mLvGh"
      }
    },
    {
      "cell_type": "code",
      "source": [
        "#re.findall() - it scans string from left to right, searching for all non-overlapping matches of the pattern .\n",
        "re.findall(\"#\\w+\", \"I love this #love #life and fun\") #Return a list of all non-overlapping matches in the string"
      ],
      "metadata": {
        "colab": {
          "base_uri": "https://localhost:8080/"
        },
        "id": "saab_nPGLujL",
        "outputId": "e35b26c1-91a7-4d3a-8726-55365844a178"
      },
      "execution_count": 59,
      "outputs": [
        {
          "output_type": "execute_result",
          "data": {
            "text/plain": [
              "['#love', '#life']"
            ]
          },
          "metadata": {},
          "execution_count": 59
        }
      ]
    },
    {
      "cell_type": "code",
      "source": [
        "re.findall(\"#\\w+\",\"@Rahim #food is #love\")#it is used for testing"
      ],
      "metadata": {
        "colab": {
          "base_uri": "https://localhost:8080/"
        },
        "id": "mCG9mr5kMWuX",
        "outputId": "43173a5b-5172-41a1-db18-09a74bfa4b85"
      },
      "execution_count": 60,
      "outputs": [
        {
          "output_type": "execute_result",
          "data": {
            "text/plain": [
              "['#food', '#love']"
            ]
          },
          "metadata": {},
          "execution_count": 60
        }
      ]
    },
    {
      "cell_type": "code",
      "source": [
        "hastags0 = [re.findall('#\\w+', twt) for twt in tweets_nourl] "
      ],
      "metadata": {
        "id": "VLq6GiWYMjRJ"
      },
      "execution_count": 61,
      "outputs": []
    },
    {
      "cell_type": "code",
      "source": [
        "hastags0[:5]#checking the dataset"
      ],
      "metadata": {
        "colab": {
          "base_uri": "https://localhost:8080/"
        },
        "id": "LKBR7HE2Mz_e",
        "outputId": "a30297f8-2121-48d9-e1e0-d34c33a61c67"
      },
      "execution_count": 62,
      "outputs": [
        {
          "output_type": "execute_result",
          "data": {
            "text/plain": [
              "[['#economy', '#fail', '#collapse', '#recession', '#gop', '#greed'],\n",
              " ['#economy',\n",
              "  '#trump',\n",
              "  '#maga',\n",
              "  '#trumptrain2020',\n",
              "  '#sheeple',\n",
              "  '#farming',\n",
              "  '#trad'],\n",
              " ['#business', '#economy', '#recession', '#tradewar', '#china', '#eu'],\n",
              " ['#economy'],\n",
              " []]"
            ]
          },
          "metadata": {},
          "execution_count": 62
        }
      ]
    },
    {
      "cell_type": "markdown",
      "source": [
        "**Finding out the most common hastags and plotting them**"
      ],
      "metadata": {
        "id": "SQDKv_cKNGjG"
      }
    },
    {
      "cell_type": "markdown",
      "source": [
        "First combining all the individual lists into a single "
      ],
      "metadata": {
        "id": "5O1O5O8wNMOa"
      }
    },
    {
      "cell_type": "code",
      "source": [
        "all_hastags =[] "
      ],
      "metadata": {
        "id": "QQW6T2c9M6GZ"
      },
      "execution_count": 63,
      "outputs": []
    },
    {
      "cell_type": "code",
      "source": [
        "for twt in hastags0:\n",
        "  all_hastags.extend(twt) #appending all the word which contains hastags into a list named all hastags"
      ],
      "metadata": {
        "id": "UZs9CLnxNaEe"
      },
      "execution_count": 64,
      "outputs": []
    },
    {
      "cell_type": "code",
      "source": [
        "all_hastags[:25]"
      ],
      "metadata": {
        "colab": {
          "base_uri": "https://localhost:8080/"
        },
        "id": "MZla8LfPNg4a",
        "outputId": "62f610da-00c3-4998-915d-dae75dbbf442"
      },
      "execution_count": 65,
      "outputs": [
        {
          "output_type": "execute_result",
          "data": {
            "text/plain": [
              "['#economy',\n",
              " '#fail',\n",
              " '#collapse',\n",
              " '#recession',\n",
              " '#gop',\n",
              " '#greed',\n",
              " '#economy',\n",
              " '#trump',\n",
              " '#maga',\n",
              " '#trumptrain2020',\n",
              " '#sheeple',\n",
              " '#farming',\n",
              " '#trad',\n",
              " '#business',\n",
              " '#economy',\n",
              " '#recession',\n",
              " '#tradewar',\n",
              " '#china',\n",
              " '#eu',\n",
              " '#economy',\n",
              " '#economy',\n",
              " '#learnenglish',\n",
              " '#businessenglish',\n",
              " '#futures',\n",
              " '#trade']"
            ]
          },
          "metadata": {},
          "execution_count": 65
        }
      ]
    },
    {
      "cell_type": "code",
      "source": [
        "len(all_hastags)"
      ],
      "metadata": {
        "colab": {
          "base_uri": "https://localhost:8080/"
        },
        "id": "7wr521hbNkdB",
        "outputId": "fdc46174-4875-49da-b38c-6a41dac3385b"
      },
      "execution_count": 66,
      "outputs": [
        {
          "output_type": "execute_result",
          "data": {
            "text/plain": [
              "1061"
            ]
          },
          "metadata": {},
          "execution_count": 66
        }
      ]
    },
    {
      "cell_type": "markdown",
      "source": [
        "Removing #economy from the data as this is what mpost of the tweets are about"
      ],
      "metadata": {
        "id": "y-gvKYd8N-Xd"
      }
    },
    {
      "cell_type": "code",
      "source": [
        "stop_contextual='#economy'"
      ],
      "metadata": {
        "id": "zYmI3iWbOZTm"
      },
      "execution_count": 67,
      "outputs": []
    },
    {
      "cell_type": "markdown",
      "source": [
        "Removing the contextual stopwords"
      ],
      "metadata": {
        "id": "scqkcRiOOSMB"
      }
    },
    {
      "cell_type": "code",
      "source": [
        "all_hastags=[tag for tag in all_hastags if tag not in stop_contextual]"
      ],
      "metadata": {
        "id": "OdTq03PCOG7Q"
      },
      "execution_count": 68,
      "outputs": []
    },
    {
      "cell_type": "code",
      "source": [
        "len(all_hastags)"
      ],
      "metadata": {
        "colab": {
          "base_uri": "https://localhost:8080/"
        },
        "id": "12h_Zk-lOcOs",
        "outputId": "6ed98798-9d50-4a71-e037-a832cade5f38"
      },
      "execution_count": 69,
      "outputs": [
        {
          "output_type": "execute_result",
          "data": {
            "text/plain": [
              "813"
            ]
          },
          "metadata": {},
          "execution_count": 69
        }
      ]
    },
    {
      "cell_type": "markdown",
      "source": [
        "**Using a counter to get the top hashtags**"
      ],
      "metadata": {
        "id": "gIHkNCfUOpHA"
      }
    },
    {
      "cell_type": "code",
      "source": [
        "from collections import Counter\n",
        "#Counter is a sub-class of collections that is used to count hashable objects. It implicitly creates a hash table of an iterable when invoked.\n"
      ],
      "metadata": {
        "id": "q-qXOlZLOsXg"
      },
      "execution_count": 70,
      "outputs": []
    },
    {
      "cell_type": "code",
      "source": [
        "counts_hashtags = Counter (all_hastags) #counting the freq of the word containg hashtags"
      ],
      "metadata": {
        "id": "MD0Iz4x0O2P1"
      },
      "execution_count": 71,
      "outputs": []
    },
    {
      "cell_type": "code",
      "source": [
        "counts_hashtags.most_common(10) #showing the top 10 trending hastags "
      ],
      "metadata": {
        "colab": {
          "base_uri": "https://localhost:8080/"
        },
        "id": "dfYgwLvHO6xY",
        "outputId": "02c67942-7a56-4a0a-b4cd-10e86ba9ecf8"
      },
      "execution_count": 72,
      "outputs": [
        {
          "output_type": "execute_result",
          "data": {
            "text/plain": [
              "[('#recession', 24),\n",
              " ('#india', 20),\n",
              " ('#business', 18),\n",
              " ('#hongkong', 17),\n",
              " ('#bloomberg', 15),\n",
              " ('#china', 12),\n",
              " ('#trump', 10),\n",
              " ('#markets', 9),\n",
              " ('#economics', 9),\n",
              " ('#infrastructure', 9)]"
            ]
          },
          "metadata": {},
          "execution_count": 72
        }
      ]
    },
    {
      "cell_type": "markdown",
      "source": [
        "# **Plotting the top 10 trending hastags**"
      ],
      "metadata": {
        "id": "CS6YiEC9ANKB"
      }
    },
    {
      "cell_type": "code",
      "source": [
        "res= counts_hashtags.most_common(10)"
      ],
      "metadata": {
        "id": "MuSJcgimAdes"
      },
      "execution_count": 73,
      "outputs": []
    },
    {
      "cell_type": "code",
      "source": [
        "#creating a dictionary which contains hastag consisting words as values and there frequency as values\n",
        "res2 = {term:cnt for term, cnt in res} "
      ],
      "metadata": {
        "id": "KPA6aP4VAsor"
      },
      "execution_count": 74,
      "outputs": []
    },
    {
      "cell_type": "code",
      "source": [
        "list(res2.keys()) #showing the keys of res2 dictionary"
      ],
      "metadata": {
        "id": "RdP0fvtQA7pV",
        "outputId": "a5b995c1-d882-41cc-8efc-8206ca629499",
        "colab": {
          "base_uri": "https://localhost:8080/"
        }
      },
      "execution_count": 75,
      "outputs": [
        {
          "output_type": "execute_result",
          "data": {
            "text/plain": [
              "['#recession',\n",
              " '#india',\n",
              " '#business',\n",
              " '#hongkong',\n",
              " '#bloomberg',\n",
              " '#china',\n",
              " '#trump',\n",
              " '#markets',\n",
              " '#economics',\n",
              " '#infrastructure']"
            ]
          },
          "metadata": {},
          "execution_count": 75
        }
      ]
    },
    {
      "cell_type": "code",
      "source": [
        "list(res2.values()) #showing the values of res2 dictionary"
      ],
      "metadata": {
        "id": "WV4Xt9QUBC0x",
        "outputId": "e01ef6a3-6b4e-4544-c8f9-dd41850974b4",
        "colab": {
          "base_uri": "https://localhost:8080/"
        }
      },
      "execution_count": 76,
      "outputs": [
        {
          "output_type": "execute_result",
          "data": {
            "text/plain": [
              "[24, 20, 18, 17, 15, 12, 10, 9, 9, 9]"
            ]
          },
          "metadata": {},
          "execution_count": 76
        }
      ]
    },
    {
      "cell_type": "code",
      "source": [
        "plt.barh(list(res2.keys()),list(res2.values()), color='teal' )\n",
        "plt.show()"
      ],
      "metadata": {
        "id": "ZX9pBEdZBInt",
        "outputId": "a08672a1-0564-496d-c71f-6a3063e42625",
        "colab": {
          "base_uri": "https://localhost:8080/",
          "height": 265
        }
      },
      "execution_count": 77,
      "outputs": [
        {
          "output_type": "display_data",
          "data": {
            "text/plain": [
              "<Figure size 432x288 with 1 Axes>"
            ],
            "image/png": "[encoded data removed]"
          },
          "metadata": {
            "needs_background": "light"
          }
        }
      ]
    }
  ]
}