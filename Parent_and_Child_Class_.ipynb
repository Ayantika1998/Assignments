{
  "nbformat": 4,
  "nbformat_minor": 0,
  "metadata": {
    "colab": {
      "provenance": [],
      "authorship_tag": "ABX9TyOcPmGTFZzJQvHGIIOmTgL3",
      "include_colab_link": true
    },
    "kernelspec": {
      "name": "python3",
      "display_name": "Python 3"
    },
    "language_info": {
      "name": "python"
    }
  },
  "cells": [
    {
      "cell_type": "markdown",
      "metadata": {
        "id": "view-in-github",
        "colab_type": "text"
      },
      "source": [
        "<a href=\"https://colab.research.google.com/github/Ayantika1998/Assignments/blob/main/Parent_and_Child_Class_.ipynb\" target=\"_parent\"><img src=\"https://colab.research.google.com/assets/colab-badge.svg\" alt=\"Open In Colab\"/></a>"
      ]
    },
    {
      "cell_type": "code",
      "execution_count": 8,
      "metadata": {
        "colab": {
          "base_uri": "https://localhost:8080/"
        },
        "id": "8sibj0AHg4a6",
        "outputId": "b2f47a95-fd13-4f14-baab-e841ea129e8b"
      },
      "outputs": [
        {
          "output_type": "stream",
          "name": "stdout",
          "text": [
            "Ayantika Sur 4\n"
          ]
        }
      ],
      "source": [
        "class person:\n",
        "  def __init__(self,name, ID):\n",
        "    self.name = name\n",
        "    self.ID = ID\n",
        "  def print_details(self):\n",
        "    print(self.name, self.ID)\n",
        "   \n",
        "  \n",
        "x=person(\"Ayantika Sur\",\"4\")\n",
        "x.print_details()\n",
        "\n"
      ]
    },
    {
      "cell_type": "code",
      "source": [
        "#child class 1\n",
        "class student(person):\n",
        "  pass\n",
        "x = student(\"Arijit Gupta\", \"8\")\n",
        "x.print_details()"
      ],
      "metadata": {
        "colab": {
          "base_uri": "https://localhost:8080/"
        },
        "id": "BEzrc-jYjsTG",
        "outputId": "711cef7a-22b4-4188-ee4b-f9639f1a7121"
      },
      "execution_count": 12,
      "outputs": [
        {
          "output_type": "stream",
          "name": "stdout",
          "text": [
            "Arijit Gupta 8\n"
          ]
        }
      ]
    },
    {
      "cell_type": "code",
      "source": [
        "#child class 2\n",
        "class Employee( person ):            \n",
        "        def __init__(self, name, ID, salary): \n",
        "                self.salary = salary \n",
        "                person.__init__(self, name, ID)  \n",
        "          \n",
        "        def det(self):\n",
        "            print(self.salary)\n",
        "    \n",
        "                    \n",
        "\n",
        "Emp = Employee('Sumana', \"10\", 57657) \n",
        "Emp.print_details()   \n",
        "     \n"
      ],
      "metadata": {
        "colab": {
          "base_uri": "https://localhost:8080/"
        },
        "id": "1kSWpNZllKBe",
        "outputId": "52fa84f7-78ca-4751-d447-36d2cea97c5f"
      },
      "execution_count": 14,
      "outputs": [
        {
          "output_type": "stream",
          "name": "stdout",
          "text": [
            "Sumana 10\n"
          ]
        }
      ]
    },
    {
      "cell_type": "code",
      "source": [
        "#child class 3\n",
        "class staff(person):\n",
        "  def __init__(self,name,ID,exp):\n",
        "    self.exp=exp\n",
        "    person.__init__(self,name,ID)\n",
        "\n",
        "  def show(self):\n",
        "    print(self.exp)\n",
        "    \n",
        "\n",
        "staff=staff(\"Dwaipayan M\", 20, 10)\n",
        "staff.print_details() "
      ],
      "metadata": {
        "colab": {
          "base_uri": "https://localhost:8080/"
        },
        "id": "4QbQrasgmTmj",
        "outputId": "73b5fb8d-3958-44c1-f0c9-b1258c4cdbc7"
      },
      "execution_count": 16,
      "outputs": [
        {
          "output_type": "stream",
          "name": "stdout",
          "text": [
            "Dwaipayan M 20\n"
          ]
        }
      ]
    }
  ]
}