{
  "nbformat": 4,
  "nbformat_minor": 0,
  "metadata": {
    "colab": {
      "provenance": [],
      "authorship_tag": "ABX9TyMwz3qmVprpAkhAWxcMfOXW",
      "include_colab_link": true
    },
    "kernelspec": {
      "name": "python3",
      "display_name": "Python 3"
    },
    "language_info": {
      "name": "python"
    }
  },
  "cells": [
    {
      "cell_type": "markdown",
      "metadata": {
        "id": "view-in-github",
        "colab_type": "text"
      },
      "source": [
        "<a href=\"https://colab.research.google.com/github/Ayantika1998/Assignments/blob/main/list_sorting_and_prime.ipynb\" target=\"_parent\"><img src=\"https://colab.research.google.com/assets/colab-badge.svg\" alt=\"Open In Colab\"/></a>"
      ]
    },
    {
      "cell_type": "code",
      "execution_count": 1,
      "metadata": {
        "id": "yqMHgvcNbDnw"
      },
      "outputs": [],
      "source": [
        "my_list= []\n",
        "def list_append():\n",
        "  n = int(input(\"Enter no. of elements\"))\n",
        "  for i in range(0,n):\n",
        "   element = int(input())\n",
        "   my_list.append(element)\n",
        "  print (my_list)\n"
      ]
    },
    {
      "cell_type": "code",
      "source": [
        "list_append()"
      ],
      "metadata": {
        "colab": {
          "base_uri": "https://localhost:8080/"
        },
        "id": "TarocaYdguxJ",
        "outputId": "6565ef91-a8b8-4384-d0c2-3314a6ba4e53"
      },
      "execution_count": 2,
      "outputs": [
        {
          "output_type": "stream",
          "name": "stdout",
          "text": [
            "Enter no. of elements8\n",
            "6\n",
            "8\n",
            "10\n",
            "12\n",
            "16\n",
            "18\n",
            "20\n",
            "22\n",
            "[6, 8, 10, 12, 16, 18, 20, 22]\n"
          ]
        }
      ]
    },
    {
      "cell_type": "code",
      "source": [
        "print(\"list sorted in asc order-\",sorted(my_list))\n",
        "print(\"list sorted in desc order-\",sorted(my_list, reverse=True))"
      ],
      "metadata": {
        "colab": {
          "base_uri": "https://localhost:8080/"
        },
        "id": "gxHqlpE3hTCH",
        "outputId": "e27f8c80-6461-4f0b-c78e-03882419d1a3"
      },
      "execution_count": 4,
      "outputs": [
        {
          "output_type": "stream",
          "name": "stdout",
          "text": [
            "list sorted in asc order- [6, 8, 10, 12, 16, 18, 20, 22]\n",
            "list sorted in desc order- [22, 20, 18, 16, 12, 10, 8, 6]\n"
          ]
        }
      ]
    },
    {
      "cell_type": "code",
      "source": [
        "def prime_number():\n",
        "  first_num= int(input(\"Enter Fisrt Number\"))\n",
        "  last_num= int(input(\"Enter Last Number\"))\n",
        "  for i in range(first_num,last_num+1):\n",
        "    if i>1:\n",
        "     for j in range(2, i):\n",
        "      if i%j == 0:\n",
        "        break\n",
        "      else:\n",
        "        print(i)\n",
        "        break   \n",
        "    else:\n",
        "     continue\n",
        "    \n",
        "\n",
        "\n"
      ],
      "metadata": {
        "id": "UiYv6e8kiYSp"
      },
      "execution_count": 42,
      "outputs": []
    },
    {
      "cell_type": "code",
      "source": [
        "prime_number()"
      ],
      "metadata": {
        "colab": {
          "base_uri": "https://localhost:8080/"
        },
        "id": "tb0Sxkn3vq1q",
        "outputId": "ddd2fd5d-26b0-4935-9d69-d9da953a10a5"
      },
      "execution_count": 43,
      "outputs": [
        {
          "output_type": "stream",
          "name": "stdout",
          "text": [
            "Enter Fisrt Number1\n",
            "Enter Last Number20\n",
            "3\n",
            "5\n",
            "7\n",
            "9\n",
            "11\n",
            "13\n",
            "15\n",
            "17\n",
            "19\n"
          ]
        }
      ]
    },
    {
      "cell_type": "code",
      "source": [],
      "metadata": {
        "id": "yrVVTjIuJnja"
      },
      "execution_count": null,
      "outputs": []
    }
  ]
}