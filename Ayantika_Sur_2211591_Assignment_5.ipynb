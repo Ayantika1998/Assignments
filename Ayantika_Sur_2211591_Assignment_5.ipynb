{
  "nbformat": 4,
  "nbformat_minor": 0,
  "metadata": {
    "colab": {
      "provenance": [],
      "collapsed_sections": [],
      "include_colab_link": true
    },
    "kernelspec": {
      "name": "python3",
      "display_name": "Python 3"
    },
    "language_info": {
      "name": "python"
    }
  },
  "cells": [
    {
      "cell_type": "markdown",
      "metadata": {
        "id": "view-in-github",
        "colab_type": "text"
      },
      "source": [
        "<a href=\"https://colab.research.google.com/github/Ayantika1998/Assignments/blob/main/Ayantika_Sur_2211591_Assignment_5.ipynb\" target=\"_parent\"><img src=\"https://colab.research.google.com/assets/colab-badge.svg\" alt=\"Open In Colab\"/></a>"
      ]
    },
    {
      "cell_type": "markdown",
      "source": [
        "# **The Basics: Training Your First Neural Network**\n",
        "* we will use Tenserflow\n",
        "* Keras Is integrated\n",
        "* Goal - Train with given data\n",
        "* Improve the model with added data "
      ],
      "metadata": {
        "id": "RgAKx_iNaKzT"
      }
    },
    {
      "cell_type": "markdown",
      "source": [
        "The problem that we want to solve is to convert from celsius to Farhenheit, whre the aprrox formula is :\n",
        "\n",
        "           f=c*1.8+32 ---> Rule\n"
      ],
      "metadata": {
        "id": "iq5L1dUqa8L5"
      }
    },
    {
      "cell_type": "markdown",
      "source": [
        "# **Importing important Libraries**"
      ],
      "metadata": {
        "id": "yMVOClhR9eT4"
      }
    },
    {
      "cell_type": "code",
      "source": [
        "!pip install tensorflow #installing tensorflow"
      ],
      "metadata": {
        "colab": {
          "base_uri": "https://localhost:8080/"
        },
        "id": "VR1mEa5zb34I",
        "outputId": "16acde56-c298-4862-ef0e-9d83a2b87840"
      },
      "execution_count": 1,
      "outputs": [
        {
          "output_type": "stream",
          "name": "stdout",
          "text": [
            "Looking in indexes: https://pypi.org/simple, https://us-python.pkg.dev/colab-wheels/public/simple/\n",
            "Requirement already satisfied: tensorflow in /usr/local/lib/python3.7/dist-packages (2.9.2)\n",
            "Requirement already satisfied: google-pasta>=0.1.1 in /usr/local/lib/python3.7/dist-packages (from tensorflow) (0.2.0)\n",
            "Requirement already satisfied: setuptools in /usr/local/lib/python3.7/dist-packages (from tensorflow) (57.4.0)\n",
            "Requirement already satisfied: numpy>=1.20 in /usr/local/lib/python3.7/dist-packages (from tensorflow) (1.21.6)\n",
            "Requirement already satisfied: astunparse>=1.6.0 in /usr/local/lib/python3.7/dist-packages (from tensorflow) (1.6.3)\n",
            "Requirement already satisfied: opt-einsum>=2.3.2 in /usr/local/lib/python3.7/dist-packages (from tensorflow) (3.3.0)\n",
            "Requirement already satisfied: tensorboard<2.10,>=2.9 in /usr/local/lib/python3.7/dist-packages (from tensorflow) (2.9.1)\n",
            "Requirement already satisfied: six>=1.12.0 in /usr/local/lib/python3.7/dist-packages (from tensorflow) (1.15.0)\n",
            "Requirement already satisfied: grpcio<2.0,>=1.24.3 in /usr/local/lib/python3.7/dist-packages (from tensorflow) (1.50.0)\n",
            "Requirement already satisfied: gast<=0.4.0,>=0.2.1 in /usr/local/lib/python3.7/dist-packages (from tensorflow) (0.4.0)\n",
            "Requirement already satisfied: packaging in /usr/local/lib/python3.7/dist-packages (from tensorflow) (21.3)\n",
            "Requirement already satisfied: h5py>=2.9.0 in /usr/local/lib/python3.7/dist-packages (from tensorflow) (3.1.0)\n",
            "Requirement already satisfied: termcolor>=1.1.0 in /usr/local/lib/python3.7/dist-packages (from tensorflow) (2.0.1)\n",
            "Requirement already satisfied: tensorflow-io-gcs-filesystem>=0.23.1 in /usr/local/lib/python3.7/dist-packages (from tensorflow) (0.27.0)\n",
            "Requirement already satisfied: protobuf<3.20,>=3.9.2 in /usr/local/lib/python3.7/dist-packages (from tensorflow) (3.17.3)\n",
            "Requirement already satisfied: keras<2.10.0,>=2.9.0rc0 in /usr/local/lib/python3.7/dist-packages (from tensorflow) (2.9.0)\n",
            "Requirement already satisfied: libclang>=13.0.0 in /usr/local/lib/python3.7/dist-packages (from tensorflow) (14.0.6)\n",
            "Requirement already satisfied: absl-py>=1.0.0 in /usr/local/lib/python3.7/dist-packages (from tensorflow) (1.3.0)\n",
            "Requirement already satisfied: wrapt>=1.11.0 in /usr/local/lib/python3.7/dist-packages (from tensorflow) (1.14.1)\n",
            "Requirement already satisfied: typing-extensions>=3.6.6 in /usr/local/lib/python3.7/dist-packages (from tensorflow) (4.1.1)\n",
            "Requirement already satisfied: tensorflow-estimator<2.10.0,>=2.9.0rc0 in /usr/local/lib/python3.7/dist-packages (from tensorflow) (2.9.0)\n",
            "Requirement already satisfied: flatbuffers<2,>=1.12 in /usr/local/lib/python3.7/dist-packages (from tensorflow) (1.12)\n",
            "Requirement already satisfied: keras-preprocessing>=1.1.1 in /usr/local/lib/python3.7/dist-packages (from tensorflow) (1.1.2)\n",
            "Requirement already satisfied: wheel<1.0,>=0.23.0 in /usr/local/lib/python3.7/dist-packages (from astunparse>=1.6.0->tensorflow) (0.37.1)\n",
            "Requirement already satisfied: cached-property in /usr/local/lib/python3.7/dist-packages (from h5py>=2.9.0->tensorflow) (1.5.2)\n",
            "Requirement already satisfied: requests<3,>=2.21.0 in /usr/local/lib/python3.7/dist-packages (from tensorboard<2.10,>=2.9->tensorflow) (2.23.0)\n",
            "Requirement already satisfied: tensorboard-plugin-wit>=1.6.0 in /usr/local/lib/python3.7/dist-packages (from tensorboard<2.10,>=2.9->tensorflow) (1.8.1)\n",
            "Requirement already satisfied: tensorboard-data-server<0.7.0,>=0.6.0 in /usr/local/lib/python3.7/dist-packages (from tensorboard<2.10,>=2.9->tensorflow) (0.6.1)\n",
            "Requirement already satisfied: werkzeug>=1.0.1 in /usr/local/lib/python3.7/dist-packages (from tensorboard<2.10,>=2.9->tensorflow) (1.0.1)\n",
            "Requirement already satisfied: google-auth-oauthlib<0.5,>=0.4.1 in /usr/local/lib/python3.7/dist-packages (from tensorboard<2.10,>=2.9->tensorflow) (0.4.6)\n",
            "Requirement already satisfied: google-auth<3,>=1.6.3 in /usr/local/lib/python3.7/dist-packages (from tensorboard<2.10,>=2.9->tensorflow) (1.35.0)\n",
            "Requirement already satisfied: markdown>=2.6.8 in /usr/local/lib/python3.7/dist-packages (from tensorboard<2.10,>=2.9->tensorflow) (3.4.1)\n",
            "Requirement already satisfied: rsa<5,>=3.1.4 in /usr/local/lib/python3.7/dist-packages (from google-auth<3,>=1.6.3->tensorboard<2.10,>=2.9->tensorflow) (4.9)\n",
            "Requirement already satisfied: pyasn1-modules>=0.2.1 in /usr/local/lib/python3.7/dist-packages (from google-auth<3,>=1.6.3->tensorboard<2.10,>=2.9->tensorflow) (0.2.8)\n",
            "Requirement already satisfied: cachetools<5.0,>=2.0.0 in /usr/local/lib/python3.7/dist-packages (from google-auth<3,>=1.6.3->tensorboard<2.10,>=2.9->tensorflow) (4.2.4)\n",
            "Requirement already satisfied: requests-oauthlib>=0.7.0 in /usr/local/lib/python3.7/dist-packages (from google-auth-oauthlib<0.5,>=0.4.1->tensorboard<2.10,>=2.9->tensorflow) (1.3.1)\n",
            "Requirement already satisfied: importlib-metadata>=4.4 in /usr/local/lib/python3.7/dist-packages (from markdown>=2.6.8->tensorboard<2.10,>=2.9->tensorflow) (4.13.0)\n",
            "Requirement already satisfied: zipp>=0.5 in /usr/local/lib/python3.7/dist-packages (from importlib-metadata>=4.4->markdown>=2.6.8->tensorboard<2.10,>=2.9->tensorflow) (3.9.0)\n",
            "Requirement already satisfied: pyasn1<0.5.0,>=0.4.6 in /usr/local/lib/python3.7/dist-packages (from pyasn1-modules>=0.2.1->google-auth<3,>=1.6.3->tensorboard<2.10,>=2.9->tensorflow) (0.4.8)\n",
            "Requirement already satisfied: idna<3,>=2.5 in /usr/local/lib/python3.7/dist-packages (from requests<3,>=2.21.0->tensorboard<2.10,>=2.9->tensorflow) (2.10)\n",
            "Requirement already satisfied: chardet<4,>=3.0.2 in /usr/local/lib/python3.7/dist-packages (from requests<3,>=2.21.0->tensorboard<2.10,>=2.9->tensorflow) (3.0.4)\n",
            "Requirement already satisfied: certifi>=2017.4.17 in /usr/local/lib/python3.7/dist-packages (from requests<3,>=2.21.0->tensorboard<2.10,>=2.9->tensorflow) (2022.9.24)\n",
            "Requirement already satisfied: urllib3!=1.25.0,!=1.25.1,<1.26,>=1.21.1 in /usr/local/lib/python3.7/dist-packages (from requests<3,>=2.21.0->tensorboard<2.10,>=2.9->tensorflow) (1.24.3)\n",
            "Requirement already satisfied: oauthlib>=3.0.0 in /usr/local/lib/python3.7/dist-packages (from requests-oauthlib>=0.7.0->google-auth-oauthlib<0.5,>=0.4.1->tensorboard<2.10,>=2.9->tensorflow) (3.2.2)\n",
            "Requirement already satisfied: pyparsing!=3.0.5,>=2.0.2 in /usr/local/lib/python3.7/dist-packages (from packaging->tensorflow) (3.0.9)\n"
          ]
        }
      ]
    },
    {
      "cell_type": "code",
      "execution_count": 2,
      "metadata": {
        "id": "67OD9Y-eZ7jF"
      },
      "outputs": [],
      "source": [
        "import tensorflow as tf#importing tensorflow"
      ]
    },
    {
      "cell_type": "code",
      "source": [
        "tf.__version__ #to see the tensorflow version"
      ],
      "metadata": {
        "colab": {
          "base_uri": "https://localhost:8080/",
          "height": 35
        },
        "id": "s51Um9iLcBs3",
        "outputId": "e239ba6f-ce16-4d5d-8c4c-f4dee3f2f7d0"
      },
      "execution_count": 3,
      "outputs": [
        {
          "output_type": "execute_result",
          "data": {
            "text/plain": [
              "'2.9.2'"
            ],
            "application/vnd.google.colaboratory.intrinsic+json": {
              "type": "string"
            }
          },
          "metadata": {},
          "execution_count": 3
        }
      ]
    },
    {
      "cell_type": "code",
      "source": [
        "import numpy as np\n",
        "import logging\n",
        "logger = tf.get_logger() #This is the class whose objects will be used in the application code directly to call the functions\n",
        "logger.setLevel(logging.ERROR)"
      ],
      "metadata": {
        "id": "jts5Z58gccgB"
      },
      "execution_count": 4,
      "outputs": []
    },
    {
      "cell_type": "markdown",
      "source": [
        "### My task here is to create a model that can take new values in celsius and can give the temperature in Fahranheit.\n"
      ],
      "metadata": {
        "id": "Ryjz-pzQ_eu4"
      }
    },
    {
      "cell_type": "markdown",
      "source": [
        "## **Setting Up and Training the data**"
      ],
      "metadata": {
        "id": "TiWSWUFDe4Ui"
      }
    },
    {
      "cell_type": "markdown",
      "source": [
        "We are creating 2 lists -\n",
        "\n",
        "* celsius_q\n",
        "* fahrenheit_a\n",
        "\n",
        "to train the model"
      ],
      "metadata": {
        "id": "vGaczjdU-5M1"
      }
    },
    {
      "cell_type": "code",
      "source": [
        "celsius_q =np.array([-40,-10,0,8,15,22,38], dtype=float)#these 7 datapoints are our training data now\n",
        "fahrenheit_a = np.array([-40,  14, 32, 46, 59, 72, 100],  dtype=float)#these 7 datapoints are our training data now\n",
        "for i,c in enumerate(celsius_q):\n",
        "  print(\"{} degrees Celsius = {} degrees Fahrenheit\".format(c, fahrenheit_a[i])) #priniting the traing data"
      ],
      "metadata": {
        "colab": {
          "base_uri": "https://localhost:8080/"
        },
        "id": "7Lduj9wYe2qZ",
        "outputId": "55f9020f-6e4f-437b-b61e-90529e507a42"
      },
      "execution_count": 5,
      "outputs": [
        {
          "output_type": "stream",
          "name": "stdout",
          "text": [
            "-40.0 degrees Celsius = -40.0 degrees Fahrenheit\n",
            "-10.0 degrees Celsius = 14.0 degrees Fahrenheit\n",
            "0.0 degrees Celsius = 32.0 degrees Fahrenheit\n",
            "8.0 degrees Celsius = 46.0 degrees Fahrenheit\n",
            "15.0 degrees Celsius = 59.0 degrees Fahrenheit\n",
            "22.0 degrees Celsius = 72.0 degrees Fahrenheit\n",
            "38.0 degrees Celsius = 100.0 degrees Fahrenheit\n"
          ]
        }
      ]
    },
    {
      "cell_type": "markdown",
      "source": [
        "#**Machine Learning Terminology**\n",
        "\n",
        "* Feature - The input variable - The degree in Celsius.\n",
        "* Labels - The output our model predicts - The dregrees in Fahrenheit.\n",
        "\n"
      ],
      "metadata": {
        "id": "8m25XeizflAe"
      }
    },
    {
      "cell_type": "markdown",
      "source": [
        "#**Creating The Neural Model**"
      ],
      "metadata": {
        "id": "2nzMuLbPhw3q"
      }
    },
    {
      "cell_type": "markdown",
      "source": [
        "# **Building a Layer**\n",
        "\n",
        "We will create a simple network with only a single layer and with single neuron.\n",
        "\n",
        "Creating a layer L0 by instantiating it."
      ],
      "metadata": {
        "id": "3JupLYFyVw5P"
      }
    },
    {
      "cell_type": "markdown",
      "source": [
        "Definining the following:\n",
        "\n",
        "\n",
        "\n",
        "*   units=x - it specifies the number of layers in the neurons. \n",
        "\n",
        "\n",
        "*   input_shape=[y] - it specifies the input to the layer.\n",
        "\n",
        "Here we build a model which is of single layer unit=1 and since it is the final layer it is also the output size of the model. Also input size is the input shape of the model.\n",
        "\n",
        "\n",
        "\n"
      ],
      "metadata": {
        "id": "MuAbuFnaXy4S"
      }
    },
    {
      "cell_type": "code",
      "source": [
        "L0 = tf.keras.layers.Dense(units=1, input_shape=[1])"
      ],
      "metadata": {
        "id": "fbkwAOV2gHeT"
      },
      "execution_count": 6,
      "outputs": []
    },
    {
      "cell_type": "markdown",
      "source": [
        "#**Assembling Layers**\n",
        "\n",
        "After the layers is defined we need to assemble them into a model.\n",
        "\n",
        "The sequential model takes a lists of layers as an arguments specifying the calculation order from input to output.\n",
        "\n",
        "This model has single layer L0\n",
        "\n",
        "\n"
      ],
      "metadata": {
        "id": "d0eqoWmJhsxO"
      }
    },
    {
      "cell_type": "code",
      "source": [
        "model = tf.keras.Sequential([L0])"
      ],
      "metadata": {
        "id": "Ky4oJLU5hgPw"
      },
      "execution_count": 7,
      "outputs": []
    },
    {
      "cell_type": "markdown",
      "source": [
        "#**Compiling the Model**\n",
        "\n",
        "Before training the model we have to compile it. Model is compiled on the basis of -\n",
        "\n",
        "* **Loss Function** - it measures the distance between prediction and the desired outcome. The distance is called 'loss'.\n",
        "\n",
        "* **Optimizer function** - a way of adjusting internal values in order to reduce the loss.\n",
        "\n"
      ],
      "metadata": {
        "id": "rl1PBl9NidUY"
      }
    },
    {
      "cell_type": "code",
      "source": [
        "model.compile(loss='mean_squared_error',\n",
        "              optimizer=tf.keras.optimizers.Adam(0.1)) #0.1 is the learning rate\n",
        "#Here loss function is 'mean_squared_error' and optimizer is Adam"
      ],
      "metadata": {
        "id": "wyi6fpoKifgi"
      },
      "execution_count": 8,
      "outputs": []
    },
    {
      "cell_type": "markdown",
      "source": [
        "#**Training the Model**\n",
        "\n",
        "We train the model by calling fit method.\n"
      ],
      "metadata": {
        "id": "0ZBRfNyukiNm"
      }
    },
    {
      "cell_type": "markdown",
      "source": [
        "During training machine takes in input and weights are decided by computer randomly. \n",
        "\n",
        "Then it calculates the difference between the actual output and desired output, that we called the loss function. The optimizer function directs the machine how the weights should be adjusted.\n",
        "\n",
        "The fit method refers this cycle of calcualte --> compare --> adjust\n",
        "\n",
        "* Input ---> celsius_q\n",
        "* Output ---> fahrenheit_a\n",
        "* Number of times cycle should run ---> epochs, \n",
        "* Controlling the amount of o/p to be produced ---> verbose"
      ],
      "metadata": {
        "id": "zTTnaxmGiYlE"
      }
    },
    {
      "cell_type": "code",
      "source": [
        "history = model.fit(celsius_q, fahrenheit_a, epochs=500, verbose=False)\n",
        "print(\"Finished training the model\")"
      ],
      "metadata": {
        "colab": {
          "base_uri": "https://localhost:8080/"
        },
        "id": "Hifjelg-jdfb",
        "outputId": "be7cfd44-ecd0-4d1f-d7bf-f6c4118fd5c2"
      },
      "execution_count": 9,
      "outputs": [
        {
          "output_type": "stream",
          "name": "stdout",
          "text": [
            "Finished training the model\n"
          ]
        }
      ]
    },
    {
      "cell_type": "markdown",
      "source": [
        "#**Loss Magnitude VS Epoch Number**\n",
        "\n",
        "From fit method we get a history object. By this object we can plot how much the loss of our model goes down after each training epoch."
      ],
      "metadata": {
        "id": "R5O5qPFclzGP"
      }
    },
    {
      "cell_type": "code",
      "source": [
        "import matplotlib.pyplot as plt\n",
        "plt.xlabel('Epoch Number')\n",
        "plt.ylabel('Loss Magnitude')\n",
        "plt.title('Loss Magnitude VS Epoch Number')\n",
        "plt.plot(history.history['loss'])"
      ],
      "metadata": {
        "colab": {
          "base_uri": "https://localhost:8080/",
          "height": 312
        },
        "id": "QaLyS3s_l19K",
        "outputId": "3f3fefaf-660d-417f-88ae-61da6023c89f"
      },
      "execution_count": 10,
      "outputs": [
        {
          "output_type": "execute_result",
          "data": {
            "text/plain": [
              "[<matplotlib.lines.Line2D at 0x7f127760ab90>]"
            ]
          },
          "metadata": {},
          "execution_count": 10
        },
        {
          "output_type": "display_data",
          "data": {
            "text/plain": [
              "<Figure size 432x288 with 1 Axes>"
            ],
            "image/png": "[encoded data removed]"
          },
          "metadata": {
            "needs_background": "light"
          }
        }
      ]
    },
    {
      "cell_type": "markdown",
      "source": [
        "From the above figure we can see Loss Magnitude is decreasing at at larger rate with increase in Epoch Number,i.e., improving at a higher rate and then the improvement slowed down utill its very near 'perfect' towards the end."
      ],
      "metadata": {
        "id": "a8v5ru4etMK_"
      }
    },
    {
      "cell_type": "markdown",
      "source": [
        "#**Predicting New Values**"
      ],
      "metadata": {
        "id": "NzTkj6romSHd"
      }
    },
    {
      "cell_type": "code",
      "source": [
        "print(model.predict([100.0]))"
      ],
      "metadata": {
        "colab": {
          "base_uri": "https://localhost:8080/"
        },
        "id": "hFNBBYRsmRvF",
        "outputId": "332e3797-dd5f-4a12-e108-d713d748abfc"
      },
      "execution_count": 11,
      "outputs": [
        {
          "output_type": "stream",
          "name": "stdout",
          "text": [
            "1/1 [==============================] - 0s 82ms/step\n",
            "[[211.32898]]\n"
          ]
        }
      ]
    },
    {
      "cell_type": "markdown",
      "source": [
        "The correct answer should be \n",
        "\n",
        "```\n",
        " 100*1.8+32=212\n",
        "```\n",
        "\n"
      ],
      "metadata": {
        "id": "rhAJWrNrukN_"
      }
    },
    {
      "cell_type": "markdown",
      "source": [
        "#**Weights and Bias**\n",
        "* **Weights**: weights are the real values that are attached with each input/feature and they convey the importance of that corresponding feature in predicting the final output. \n",
        "* **Bias**: Bias is used for shifting the activation function towards left or right, we can compare this to intercept in the line equation."
      ],
      "metadata": {
        "id": "cWYR3zMRoj1l"
      }
    },
    {
      "cell_type": "code",
      "source": [
        "print(\"Thses are the layer variables:{}\".format(L0.get_weights()))"
      ],
      "metadata": {
        "colab": {
          "base_uri": "https://localhost:8080/"
        },
        "id": "EkDNDEzPodNF",
        "outputId": "453f7217-d193-4c5e-8f81-a929b36ad50e"
      },
      "execution_count": 12,
      "outputs": [
        {
          "output_type": "stream",
          "name": "stdout",
          "text": [
            "Thses are the layer variables:[array([[1.8218573]], dtype=float32), array([29.143244], dtype=float32)]\n"
          ]
        }
      ]
    },
    {
      "cell_type": "markdown",
      "source": [
        "* formulae ---> fahrenheit = 1.8*celsius+32\n",
        "\n",
        "We want to get the bias close to 1.8 and weights close to 32\n",
        "\n",
        "\n"
      ],
      "metadata": {
        "id": "nXj4-vh-pJ1b"
      }
    },
    {
      "cell_type": "markdown",
      "source": [
        "Changing the learning rate didnt help \n",
        "we can change epoch to 1000\n",
        "We have to add more data points."
      ],
      "metadata": {
        "id": "cydBfDfbu7Wj"
      }
    },
    {
      "cell_type": "code",
      "source": [
        "#L0 = tf.keras.layers.Dense(units=4, input_shape=[1])\n",
        "#L1 = tf.keras.layers.Dense(units=4)\n",
        "#L2 = tf.keras.layers.Dense(units=1)\n",
        "#model = tf.keras.Sequential([L0, L1, L2])\n",
        "#model.compile(loss='mean_squared_error', optimizer=tf.keras.optimizers.Adam(0.1))\n",
        "#model.fit(celsius_q, fahrenheit_a, epochs=500, verbose=False)\n",
        "#print(\"Finished training the model\")\n",
        "#print(model.predict([100.0]))\n",
        "#print(\"These are the l0 variables: {}\".format(L0.get_weights()))\n",
        "#print(\"These are the l1 variables: {}\".format(L1.get_weights()))\n",
        "#print(\"These are the l2 variables: {}\".format(L2.get_weights()))\n",
        "#print(\"Model predicts that 100 degrees Celsius is: {} degrees Fahrenheit\".format(model.predict([100.0])))\n",
        "\n",
        "#it increases the model complexity"
      ],
      "metadata": {
        "id": "7--EgPn3qEz1"
      },
      "execution_count": 13,
      "outputs": []
    },
    {
      "cell_type": "markdown",
      "source": [
        "# **Improving The Model**"
      ],
      "metadata": {
        "id": "bQO4IHQ13o5c"
      }
    },
    {
      "cell_type": "markdown",
      "source": [
        "We can improve the model by -\n",
        "* Adding more data points\n",
        "* Increasing epoch number(may be)"
      ],
      "metadata": {
        "id": "zxCTvb343zvs"
      }
    },
    {
      "cell_type": "markdown",
      "source": [
        "## **Adding more data points**"
      ],
      "metadata": {
        "id": "pevg0TXE6ssz"
      }
    },
    {
      "cell_type": "code",
      "source": [
        "def cel_to_far(cel):\n",
        "  return (1.8*cel+32)\n",
        "celsius=[]\n",
        "fahrenheit=[]\n",
        "for i in range(-50,80):\n",
        "  celsius.append(i)\n",
        "  fahrenheit.append(cel_to_far(i))\n",
        "print(celsius)\n",
        "print(fahrenheit)\n",
        "\n",
        "\n"
      ],
      "metadata": {
        "colab": {
          "base_uri": "https://localhost:8080/"
        },
        "id": "TN-qdl6B6tLJ",
        "outputId": "8f2d9db0-06ae-4961-e03d-a89148f48305"
      },
      "execution_count": 14,
      "outputs": [
        {
          "output_type": "stream",
          "name": "stdout",
          "text": [
            "[-50, -49, -48, -47, -46, -45, -44, -43, -42, -41, -40, -39, -38, -37, -36, -35, -34, -33, -32, -31, -30, -29, -28, -27, -26, -25, -24, -23, -22, -21, -20, -19, -18, -17, -16, -15, -14, -13, -12, -11, -10, -9, -8, -7, -6, -5, -4, -3, -2, -1, 0, 1, 2, 3, 4, 5, 6, 7, 8, 9, 10, 11, 12, 13, 14, 15, 16, 17, 18, 19, 20, 21, 22, 23, 24, 25, 26, 27, 28, 29, 30, 31, 32, 33, 34, 35, 36, 37, 38, 39, 40, 41, 42, 43, 44, 45, 46, 47, 48, 49, 50, 51, 52, 53, 54, 55, 56, 57, 58, 59, 60, 61, 62, 63, 64, 65, 66, 67, 68, 69, 70, 71, 72, 73, 74, 75, 76, 77, 78, 79]\n",
            "[-58.0, -56.2, -54.400000000000006, -52.60000000000001, -50.8, -49.0, -47.2, -45.400000000000006, -43.60000000000001, -41.8, -40.0, -38.2, -36.400000000000006, -34.60000000000001, -32.8, -31.0, -29.200000000000003, -27.4, -25.6, -23.800000000000004, -22.0, -20.200000000000003, -18.4, -16.6, -14.800000000000004, -13.0, -11.200000000000003, -9.399999999999999, -7.600000000000001, -5.800000000000004, -4.0, -2.200000000000003, -0.3999999999999986, 1.3999999999999986, 3.1999999999999993, 5.0, 6.800000000000001, 8.599999999999998, 10.399999999999999, 12.2, 14.0, 15.8, 17.6, 19.4, 21.2, 23.0, 24.8, 26.6, 28.4, 30.2, 32.0, 33.8, 35.6, 37.4, 39.2, 41.0, 42.8, 44.6, 46.4, 48.2, 50.0, 51.8, 53.6, 55.400000000000006, 57.2, 59.0, 60.8, 62.6, 64.4, 66.2, 68.0, 69.80000000000001, 71.6, 73.4, 75.2, 77.0, 78.80000000000001, 80.6, 82.4, 84.2, 86.0, 87.80000000000001, 89.6, 91.4, 93.2, 95.0, 96.8, 98.60000000000001, 100.4, 102.2, 104.0, 105.8, 107.60000000000001, 109.4, 111.2, 113.0, 114.8, 116.60000000000001, 118.4, 120.2, 122.0, 123.8, 125.60000000000001, 127.4, 129.2, 131.0, 132.8, 134.60000000000002, 136.4, 138.2, 140.0, 141.8, 143.60000000000002, 145.4, 147.2, 149.0, 150.8, 152.60000000000002, 154.4, 156.2, 158.0, 159.8, 161.6, 163.4, 165.20000000000002, 167.0, 168.8, 170.6, 172.4, 174.20000000000002]\n"
          ]
        }
      ]
    },
    {
      "cell_type": "code",
      "source": [
        "L0 = tf.keras.layers.Dense(units=1, input_shape=[1])"
      ],
      "metadata": {
        "id": "w8ErUCpc9A6z"
      },
      "execution_count": 15,
      "outputs": []
    },
    {
      "cell_type": "code",
      "source": [
        "model = tf.keras.Sequential([L0])"
      ],
      "metadata": {
        "id": "gXwWWoBT9BhN"
      },
      "execution_count": 16,
      "outputs": []
    },
    {
      "cell_type": "code",
      "source": [
        "model.compile(loss='mean_squared_error',\n",
        "              optimizer=tf.keras.optimizers.Adam(0.1))"
      ],
      "metadata": {
        "id": "chrzMOvu9E0s"
      },
      "execution_count": 17,
      "outputs": []
    },
    {
      "cell_type": "code",
      "source": [
        "history = model.fit(celsius, fahrenheit, epochs=500, verbose=False)\n",
        "print(\"Finished training the model\")"
      ],
      "metadata": {
        "colab": {
          "base_uri": "https://localhost:8080/"
        },
        "id": "V_MBXYSA9FeR",
        "outputId": "93dc840c-7033-466b-9817-a01157366166"
      },
      "execution_count": 18,
      "outputs": [
        {
          "output_type": "stream",
          "name": "stdout",
          "text": [
            "Finished training the model\n"
          ]
        }
      ]
    },
    {
      "cell_type": "code",
      "source": [
        "plt.xlabel('Epoch Number')\n",
        "plt.ylabel('Loss Magnitude')\n",
        "plt.title('Loss Magnitude VS Epoch Number')\n",
        "plt.plot(history.history['loss'])"
      ],
      "metadata": {
        "colab": {
          "base_uri": "https://localhost:8080/",
          "height": 312
        },
        "id": "sSpGGLQg9IXQ",
        "outputId": "1924e093-e1e3-475d-d411-cb3ce0be7c16"
      },
      "execution_count": 19,
      "outputs": [
        {
          "output_type": "execute_result",
          "data": {
            "text/plain": [
              "[<matplotlib.lines.Line2D at 0x7f12780a3910>]"
            ]
          },
          "metadata": {},
          "execution_count": 19
        },
        {
          "output_type": "display_data",
          "data": {
            "text/plain": [
              "<Figure size 432x288 with 1 Axes>"
            ],
            "image/png": "[encoded data removed]"
          },
          "metadata": {
            "needs_background": "light"
          }
        }
      ]
    },
    {
      "cell_type": "code",
      "source": [
        "print(model.predict([100.0]))"
      ],
      "metadata": {
        "colab": {
          "base_uri": "https://localhost:8080/"
        },
        "id": "f7Puud5n9Kkz",
        "outputId": "98cfbfd9-5413-4f1e-8c07-232aab149fab"
      },
      "execution_count": 20,
      "outputs": [
        {
          "output_type": "stream",
          "name": "stdout",
          "text": [
            "1/1 [==============================] - 0s 60ms/step\n",
            "[[212.00002]]\n"
          ]
        }
      ]
    },
    {
      "cell_type": "code",
      "source": [
        "print(\"Thses are the layer variables:{}\".format(L0.get_weights()))"
      ],
      "metadata": {
        "colab": {
          "base_uri": "https://localhost:8080/"
        },
        "id": "Yfa_rJ4h9M9R",
        "outputId": "6f109787-387e-4655-9ed1-993ee5d09fee"
      },
      "execution_count": 21,
      "outputs": [
        {
          "output_type": "stream",
          "name": "stdout",
          "text": [
            "Thses are the layer variables:[array([[1.8000005]], dtype=float32), array([31.999958], dtype=float32)]\n"
          ]
        }
      ]
    },
    {
      "cell_type": "markdown",
      "source": [
        "**So we can see that model have improved very well by increasing the data points.**"
      ],
      "metadata": {
        "id": "kbctUNq2_ndk"
      }
    },
    {
      "cell_type": "markdown",
      "source": [
        "## **Increasing epoch number**"
      ],
      "metadata": {
        "id": "vkFSqq5K6jdx"
      }
    },
    {
      "cell_type": "code",
      "source": [
        "L0 = tf.keras.layers.Dense(units=1, input_shape=[1])"
      ],
      "metadata": {
        "id": "sYLZLjql3oTH"
      },
      "execution_count": 22,
      "outputs": []
    },
    {
      "cell_type": "code",
      "source": [
        "model = tf.keras.Sequential([L0])"
      ],
      "metadata": {
        "id": "RI1t0EaM1Ays"
      },
      "execution_count": 23,
      "outputs": []
    },
    {
      "cell_type": "code",
      "source": [
        "model.compile(loss='mean_squared_error',\n",
        "              optimizer=tf.keras.optimizers.Adam(0.1))"
      ],
      "metadata": {
        "id": "Nl9fXfsK5CT4"
      },
      "execution_count": 24,
      "outputs": []
    },
    {
      "cell_type": "code",
      "source": [
        "history = model.fit(celsius, fahrenheit, epochs=800, verbose=False)\n",
        "print(\"Finished training the model\")"
      ],
      "metadata": {
        "colab": {
          "base_uri": "https://localhost:8080/"
        },
        "id": "3XIg06-H5GJY",
        "outputId": "d1db16d8-6906-4736-c1e2-18c0a6431aa1"
      },
      "execution_count": 25,
      "outputs": [
        {
          "output_type": "stream",
          "name": "stdout",
          "text": [
            "Finished training the model\n"
          ]
        }
      ]
    },
    {
      "cell_type": "code",
      "source": [
        "plt.xlabel('Epoch Number')\n",
        "plt.ylabel('Loss Magnitude')\n",
        "plt.title('Loss Magnitude VS Epoch Number')\n",
        "plt.plot(history.history['loss'])"
      ],
      "metadata": {
        "colab": {
          "base_uri": "https://localhost:8080/",
          "height": 312
        },
        "id": "me0gpZ-t5KsQ",
        "outputId": "d527632f-cfa2-4b3e-c415-ace8c7749a97"
      },
      "execution_count": 26,
      "outputs": [
        {
          "output_type": "execute_result",
          "data": {
            "text/plain": [
              "[<matplotlib.lines.Line2D at 0x7f12788b7c50>]"
            ]
          },
          "metadata": {},
          "execution_count": 26
        },
        {
          "output_type": "display_data",
          "data": {
            "text/plain": [
              "<Figure size 432x288 with 1 Axes>"
            ],
            "image/png": "[encoded data removed]"
          },
          "metadata": {
            "needs_background": "light"
          }
        }
      ]
    },
    {
      "cell_type": "code",
      "source": [
        "print(model.predict([100.0]))"
      ],
      "metadata": {
        "colab": {
          "base_uri": "https://localhost:8080/"
        },
        "id": "86vR4tzc5xuq",
        "outputId": "57c623ee-c432-455d-f8a3-6a9590819b4d"
      },
      "execution_count": 27,
      "outputs": [
        {
          "output_type": "stream",
          "name": "stdout",
          "text": [
            "1/1 [==============================] - 0s 53ms/step\n",
            "[[212.00003]]\n"
          ]
        }
      ]
    },
    {
      "cell_type": "code",
      "source": [
        "print(\"Thses are the layer variables:{}\".format(L0.get_weights()))"
      ],
      "metadata": {
        "colab": {
          "base_uri": "https://localhost:8080/"
        },
        "id": "A8Ltu3pI5yR5",
        "outputId": "3af2f4b7-4b34-451a-8cf0-38b86b5d868d"
      },
      "execution_count": 28,
      "outputs": [
        {
          "output_type": "stream",
          "name": "stdout",
          "text": [
            "Thses are the layer variables:[array([[1.8000004]], dtype=float32), array([31.999989], dtype=float32)]\n"
          ]
        }
      ]
    },
    {
      "cell_type": "markdown",
      "source": [
        "The model accuracy didnot improve much by increasing the epoch number and it is also shown in the plot that with increasing the epoch number loss is not decresing as much. "
      ],
      "metadata": {
        "id": "o1zjignGAR7G"
      }
    },
    {
      "cell_type": "markdown",
      "source": [
        "## **The best method to improve the model is to increase the number of datapoints**"
      ],
      "metadata": {
        "id": "mow5Knb8GkZi"
      }
    }
  ]
}